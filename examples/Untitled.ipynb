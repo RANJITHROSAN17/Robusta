{
 "cells": [
  {
   "cell_type": "code",
   "execution_count": 295,
   "metadata": {},
   "outputs": [],
   "source": [
    "import numpy as np\n",
    "from math import asin, acos\n",
    "\n",
    "def area1(r1, r2, d):\n",
    "    \n",
    "    r = r1\n",
    "    R = r2\n",
    "    \n",
    "    if R < r: r, R = R, r\n",
    "\n",
    "    part1 = r*r*acos( (d*d + r*r - R*R) / (2*d*r))\n",
    "    part2 = R*R*acos((d*d + R*R - r*r)/(2*d*R))\n",
    "    part3 = 0.5*((-d+r+R)*(d+r-R)*(d-r+R)*(d+r+R))**0.5\n",
    "    \n",
    "    print(part1, part2, part3)\n",
    "\n",
    "    return part1 + part2 - part3"
   ]
  },
  {
   "cell_type": "code",
   "execution_count": 71,
   "metadata": {},
   "outputs": [
    {
     "data": {
      "text/plain": [
       "1.1710500762427802"
      ]
     },
     "execution_count": 71,
     "metadata": {},
     "output_type": "execute_result"
    }
   ],
   "source": [
    "side = 1\n",
    "\n",
    "r1 = side\n",
    "r2 = side * 2\n",
    "d = side * 2**0.5\n",
    "\n",
    "( np.pi*(r1**2) - area1(r1, r2, d) ) * 2"
   ]
  },
  {
   "cell_type": "code",
   "execution_count": 307,
   "metadata": {},
   "outputs": [],
   "source": [
    "def area2(r1, r2, d):\n",
    "    \n",
    "    a = (d**2 + r1**2 - r2**2) / (2*d)\n",
    "    b = (d**2 + r2**2 - r1**2) / (2*d)\n",
    "    \n",
    "    theta1 = 2 * np.arccos(a / r1)\n",
    "    theta2 = 2 * np.arccos(b / r2)\n",
    "    \n",
    "    s1 = r1**2 * (theta1 - np.sin(theta1)) / 2\n",
    "    s2 = r2**2 * (theta2 - np.sin(theta2)) / 2\n",
    "\n",
    "    return s1 + s2"
   ]
  },
  {
   "cell_type": "code",
   "execution_count": 310,
   "metadata": {},
   "outputs": [
    {
     "data": {
      "text/plain": [
       "0.2927625190606955"
      ]
     },
     "execution_count": 310,
     "metadata": {},
     "output_type": "execute_result"
    }
   ],
   "source": [
    "side = 1\n",
    "\n",
    "r1 = side / 2\n",
    "r2 = side \n",
    "d = side / (2**0.5)\n",
    "\n",
    "( np.pi*(r1**2) - area2(r1, r2, d) ) * 2"
   ]
  },
  {
   "cell_type": "code",
   "execution_count": 299,
   "metadata": {},
   "outputs": [
    {
     "name": "stdout",
     "output_type": "stream",
     "text": [
      "56.572059114616955 7.32963127209309\n"
     ]
    },
    {
     "data": {
      "text/plain": [
       "63.901690386710044"
      ]
     },
     "execution_count": 299,
     "metadata": {},
     "output_type": "execute_result"
    }
   ],
   "source": [
    "area2(r1, r2, d)"
   ]
  },
  {
   "cell_type": "code",
   "execution_count": 300,
   "metadata": {},
   "outputs": [
    {
     "name": "stdout",
     "output_type": "stream",
     "text": [
      "48.304086267540114 48.669495507477286 33.071891388307385\n"
     ]
    },
    {
     "data": {
      "text/plain": [
       "63.90169038671002"
      ]
     },
     "execution_count": 300,
     "metadata": {},
     "output_type": "execute_result"
    }
   ],
   "source": [
    "area1(r1, r2, d)"
   ]
  },
  {
   "cell_type": "code",
   "execution_count": 318,
   "metadata": {},
   "outputs": [
    {
     "data": {
      "text/plain": [
       "0.2927625190606956"
      ]
     },
     "execution_count": 318,
     "metadata": {},
     "output_type": "execute_result"
    }
   ],
   "source": [
    "theta1 = 2 * np.arccos(-np.sqrt(2)/4)\n",
    "theta2 = 2 * np.arccos(5*np.sqrt(2)/8)\n",
    "\n",
    "s1 = r1**2 * (theta1 - np.sin(theta1)) / 2\n",
    "s2 = r2**2 * (theta2 - np.sin(theta2)) / 2\n",
    "\n",
    "(np.pi*(r1**2) - s1 - s2) * 2"
   ]
  },
  {
   "cell_type": "code",
   "execution_count": 320,
   "metadata": {},
   "outputs": [
    {
     "data": {
      "text/plain": [
       "0.6390169038671005"
      ]
     },
     "execution_count": 320,
     "metadata": {},
     "output_type": "execute_result"
    }
   ],
   "source": [
    "s1 + s2"
   ]
  }
 ],
 "metadata": {
  "kernelspec": {
   "display_name": "Python 3",
   "language": "python",
   "name": "python3"
  },
  "language_info": {
   "codemirror_mode": {
    "name": "ipython",
    "version": 3
   },
   "file_extension": ".py",
   "mimetype": "text/x-python",
   "name": "python",
   "nbconvert_exporter": "python",
   "pygments_lexer": "ipython3",
   "version": "3.6.8"
  }
 },
 "nbformat": 4,
 "nbformat_minor": 2
}
