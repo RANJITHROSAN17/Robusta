{
 "cells": [
  {
   "cell_type": "markdown",
   "metadata": {},
   "source": [
    "# Import"
   ]
  },
  {
   "cell_type": "code",
   "execution_count": 1,
   "metadata": {},
   "outputs": [
    {
     "name": "stderr",
     "output_type": "stream",
     "text": [
      "Using TensorFlow backend.\n"
     ]
    }
   ],
   "source": [
    "# Basic\n",
    "import pandas as pd\n",
    "import numpy as np\n",
    "import warnings\n",
    "\n",
    "warnings.simplefilter('ignore')\n",
    "\n",
    "# ML Toolkit\n",
    "from robusta.selector import *\n",
    "from robusta.crossval import *\n",
    "from robusta.pipeline import *\n",
    "from robusta.preprocessing import *\n",
    "\n",
    "from sklearn.model_selection import train_test_split\n",
    "from sklearn.datasets import make_regression\n",
    "from sklearn.metrics import *\n",
    "\n",
    "# Model\n",
    "from sklearn.linear_model import Ridge"
   ]
  },
  {
   "cell_type": "markdown",
   "metadata": {},
   "source": [
    "# Data"
   ]
  },
  {
   "cell_type": "code",
   "execution_count": 2,
   "metadata": {},
   "outputs": [],
   "source": [
    "from sklearn.datasets import make_regression\n",
    "from sklearn.model_selection import train_test_split\n",
    "\n",
    "X, y = make_regression(n_samples=200, n_features=50, n_informative=5, \n",
    "                       random_state=666)\n",
    "\n",
    "X = pd.DataFrame(X)\n",
    "y = pd.Series(y)\n",
    "\n",
    "X.rename(columns=lambda x: 'x{}'.format(x), inplace=True)\n",
    "\n",
    "X_train, X_test, y_train, y_test = train_test_split(X, y, test_size=0.2, random_state=42)"
   ]
  },
  {
   "cell_type": "code",
   "execution_count": 3,
   "metadata": {},
   "outputs": [
    {
     "data": {
      "text/plain": [
       "0      -75.242067\n",
       "1       24.025248\n",
       "2     -147.517904\n",
       "3      -37.842019\n",
       "4      -14.627993\n",
       "          ...    \n",
       "195     35.853590\n",
       "196     22.774910\n",
       "197   -126.268509\n",
       "198    130.487629\n",
       "199     15.891230\n",
       "Length: 200, dtype: float64"
      ]
     },
     "execution_count": 3,
     "metadata": {},
     "output_type": "execute_result"
    }
   ],
   "source": [
    "y"
   ]
  },
  {
   "cell_type": "markdown",
   "metadata": {},
   "source": [
    "# Task & Model"
   ]
  },
  {
   "cell_type": "code",
   "execution_count": 4,
   "metadata": {},
   "outputs": [],
   "source": [
    "get_score = lambda y_true, y_pred: -mean_squared_error(y_true, y_pred)\n",
    "scoring = 'neg_mean_squared_error'\n",
    "\n",
    "cv = 5\n",
    "\n",
    "model = Ridge()"
   ]
  },
  {
   "cell_type": "markdown",
   "metadata": {},
   "source": [
    "# Baseline"
   ]
  },
  {
   "cell_type": "code",
   "execution_count": 5,
   "metadata": {},
   "outputs": [
    {
     "name": "stdout",
     "output_type": "stream",
     "text": [
      "[21:10:21]  Ridge\n",
      "\n",
      "[21:10:21]  FOLD  0:   -4.4332\n",
      "[21:10:21]  FOLD  1:   -13.3185\n",
      "[21:10:21]  FOLD  2:   -5.2113\n",
      "[21:10:21]  FOLD  3:   -19.5226\n",
      "[21:10:21]  FOLD  4:   -12.6811\n",
      "\n",
      "[21:10:21]  AVERAGE:   \u001b[33m-11.0333\u001b[0m ± 5.6118\n",
      "\n"
     ]
    },
    {
     "data": {
      "text/plain": [
       "-11.124871666693128"
      ]
     },
     "execution_count": 5,
     "metadata": {},
     "output_type": "execute_result"
    }
   ],
   "source": [
    "features = X_train.columns\n",
    "\n",
    "_, y_pred = crossval_predict(model, cv, X_train[features], y_train, X_new=X_test[features],\n",
    "                             scoring=scoring, verbose=2, n_jobs=None)\n",
    "\n",
    "get_score(y_test, y_pred)"
   ]
  },
  {
   "cell_type": "markdown",
   "metadata": {},
   "source": [
    "# Selector"
   ]
  },
  {
   "cell_type": "markdown",
   "metadata": {},
   "source": [
    "## RFE \n",
    "#### (Recursive Feature Elimination)"
   ]
  },
  {
   "cell_type": "code",
   "execution_count": 6,
   "metadata": {},
   "outputs": [
    {
     "name": "stdout",
     "output_type": "stream",
     "text": [
      "[21:10:21] ITER: 1/26\tSUBSET: 50/50\tSCORE: \u001b[33m-11.0333\u001b[0m ± \u001b[36m5.6118\u001b[0m\tETA: 2 sec\n",
      "[21:10:21] ITER: 2/26\tSUBSET: 49/50\tSCORE: \u001b[33m-10.9132\u001b[0m ± \u001b[36m5.6045\u001b[0m\tETA: 2 sec\n",
      "[21:10:22] ITER: 3/26\tSUBSET: 48/50\tSCORE: \u001b[33m-10.8331\u001b[0m ± 5.6296\tETA: 2 sec\n",
      "[21:10:22] ITER: 4/26\tSUBSET: 47/50\tSCORE: \u001b[33m-10.6639\u001b[0m ± 5.6079\tETA: 2 sec\n",
      "[21:10:22] ITER: 5/26\tSUBSET: 46/50\tSCORE: \u001b[33m-10.4105\u001b[0m ± \u001b[36m5.2825\u001b[0m\tETA: 2 sec\n",
      "[21:10:22] ITER: 6/26\tSUBSET: 45/50\tSCORE: \u001b[33m-10.2890\u001b[0m ± 5.2926\tETA: 2 sec\n",
      "[21:10:22] ITER: 7/26\tSUBSET: 44/50\tSCORE: \u001b[33m-10.1547\u001b[0m ± 5.3142\tETA: 1 sec\n",
      "[21:10:22] ITER: 8/26\tSUBSET: 43/50\tSCORE: \u001b[33m-9.9987\u001b[0m ± \u001b[36m5.1674\u001b[0m\tETA: 1 sec\n",
      "[21:10:22] ITER: 9/26\tSUBSET: 42/50\tSCORE: \u001b[33m-9.8979\u001b[0m ± 5.2327\tETA: 1 sec\n",
      "[21:10:22] ITER: 10/26\tSUBSET: 41/50\tSCORE: \u001b[33m-9.7868\u001b[0m ± 5.2371\tETA: 1 sec\n",
      "[21:10:23] ITER: 11/26\tSUBSET: 40/50\tSCORE: \u001b[33m-9.7188\u001b[0m ± 5.1924\tETA: 1 sec\n",
      "[21:10:23] ITER: 12/26\tSUBSET: 39/50\tSCORE: \u001b[33m-9.6912\u001b[0m ± 5.1754\tETA: 1 sec\n",
      "[21:10:23] ITER: 13/26\tSUBSET: 38/50\tSCORE: \u001b[33m-9.4134\u001b[0m ± \u001b[36m5.1267\u001b[0m\tETA: 1 sec\n",
      "[21:10:23] ITER: 14/26\tSUBSET: 37/50\tSCORE: \u001b[33m-8.4518\u001b[0m ± \u001b[36m3.7823\u001b[0m\tETA: 1 sec\n",
      "[21:10:23] ITER: 15/26\tSUBSET: 36/50\tSCORE: \u001b[33m-8.1837\u001b[0m ± \u001b[36m3.7128\u001b[0m\tETA: 1 sec\n",
      "[21:10:23] ITER: 16/26\tSUBSET: 35/50\tSCORE: \u001b[33m-8.0618\u001b[0m ± 3.8243\tETA: 1 sec\n",
      "[21:10:23] ITER: 17/26\tSUBSET: 34/50\tSCORE: \u001b[33m-7.7868\u001b[0m ± \u001b[36m3.5922\u001b[0m\tETA: 948 ms\n",
      "[21:10:23] ITER: 18/26\tSUBSET: 33/50\tSCORE: \u001b[33m-7.5734\u001b[0m ± \u001b[36m3.4715\u001b[0m\tETA: 842 ms\n",
      "[21:10:23] ITER: 19/26\tSUBSET: 32/50\tSCORE: \u001b[33m-7.3498\u001b[0m ± \u001b[36m3.3237\u001b[0m\tETA: 736 ms\n",
      "[21:10:24] ITER: 20/26\tSUBSET: 31/50\tSCORE: \u001b[33m-6.9897\u001b[0m ± \u001b[36m2.9532\u001b[0m\tETA: 632 ms\n",
      "[21:10:24] ITER: 21/26\tSUBSET: 30/50\tSCORE: \u001b[33m-6.5612\u001b[0m ± \u001b[36m2.5208\u001b[0m\tETA: 527 ms\n",
      "[21:10:24] ITER: 22/26\tSUBSET: 29/50\tSCORE: \u001b[33m-6.4148\u001b[0m ± \u001b[36m2.3804\u001b[0m\tETA: 422 ms\n",
      "[21:10:24] ITER: 23/26\tSUBSET: 28/50\tSCORE: \u001b[33m-6.0093\u001b[0m ± \u001b[36m2.1250\u001b[0m\tETA: 317 ms\n",
      "[21:10:24] ITER: 24/26\tSUBSET: 27/50\tSCORE: \u001b[33m-5.7697\u001b[0m ± \u001b[36m2.0153\u001b[0m\tETA: 211 ms\n",
      "[21:10:24] ITER: 25/26\tSUBSET: 26/50\tSCORE: \u001b[33m-5.5701\u001b[0m ± \u001b[36m1.8965\u001b[0m\tETA: 105 ms\n",
      "[21:10:24] ITER: 26/26\tSUBSET: 25/50\tSCORE: \u001b[33m-5.4389\u001b[0m ± 1.9929\tETA: 0 ms\n",
      "Iterations limit exceed!\n"
     ]
    },
    {
     "ename": "AttributeError",
     "evalue": "'RFE' object has no attribute 'get_features'",
     "output_type": "error",
     "traceback": [
      "\u001b[0;31m-----------------------------------------------------------------\u001b[0m",
      "\u001b[0;31mAttributeError\u001b[0m                  Traceback (most recent call last)",
      "\u001b[0;32m<ipython-input-6-0e595bb38e1e>\u001b[0m in \u001b[0;36m<module>\u001b[0;34m\u001b[0m\n\u001b[1;32m      2\u001b[0m \u001b[0mselector\u001b[0m\u001b[0;34m.\u001b[0m\u001b[0mfit\u001b[0m\u001b[0;34m(\u001b[0m\u001b[0mX_train\u001b[0m\u001b[0;34m,\u001b[0m \u001b[0my_train\u001b[0m\u001b[0;34m)\u001b[0m\u001b[0;34m\u001b[0m\u001b[0;34m\u001b[0m\u001b[0m\n\u001b[1;32m      3\u001b[0m \u001b[0;34m\u001b[0m\u001b[0m\n\u001b[0;32m----> 4\u001b[0;31m \u001b[0mfeatures\u001b[0m \u001b[0;34m=\u001b[0m \u001b[0mselector\u001b[0m\u001b[0;34m.\u001b[0m\u001b[0mget_features\u001b[0m\u001b[0;34m(\u001b[0m\u001b[0;34m)\u001b[0m\u001b[0;34m\u001b[0m\u001b[0;34m\u001b[0m\u001b[0m\n\u001b[0m",
      "\u001b[0;31mAttributeError\u001b[0m: 'RFE' object has no attribute 'get_features'"
     ]
    }
   ],
   "source": [
    "selector = RFE(model, cv, scoring, n_jobs=-1)\n",
    "selector.fit(X_train, y_train)\n",
    "\n",
    "features = selector.get_features()"
   ]
  },
  {
   "cell_type": "code",
   "execution_count": 7,
   "metadata": {},
   "outputs": [
    {
     "name": "stdout",
     "output_type": "stream",
     "text": [
      "[02:54:19]  Ridge\n",
      "\n",
      "[02:54:19]  FOLD  0:   -3.1975\n",
      "[02:54:19]  FOLD  1:   -7.7803\n",
      "[02:54:19]  FOLD  2:   -3.0137\n",
      "[02:54:19]  FOLD  3:   -7.2204\n",
      "[02:54:19]  FOLD  4:   -5.9828\n",
      "\n",
      "[02:54:19]  AVERAGE:   \u001b[33m-5.4389\u001b[0m ± 1.9929\n",
      "\n"
     ]
    },
    {
     "data": {
      "text/plain": [
       "-8.4853214315755"
      ]
     },
     "execution_count": 7,
     "metadata": {},
     "output_type": "execute_result"
    }
   ],
   "source": [
    "_, y_pred = crossval_predict(model, cv, X_train[features], y_train, X_new=X_test[features],\n",
    "                             scoring=scoring, method='predict_proba',\n",
    "                             verbose=2, n_jobs=None)\n",
    "\n",
    "get_score(y_test, y_pred)"
   ]
  },
  {
   "cell_type": "markdown",
   "metadata": {},
   "source": [
    "## RFE via Permutation Importance"
   ]
  },
  {
   "cell_type": "code",
   "execution_count": 8,
   "metadata": {},
   "outputs": [
    {
     "name": "stdout",
     "output_type": "stream",
     "text": [
      "[02:54:21] ITER: 1/20      SUBSET: 50/50      SCORE: \u001b[33m-11.0333\u001b[0m ± \u001b[36m5.6118\u001b[0m      ETA: 35 sec\n",
      "[02:54:23] ITER: 2/20      SUBSET: 45/50      SCORE: \u001b[33m-7.9381\u001b[0m ± \u001b[36m3.1770\u001b[0m      ETA: 35 sec\n",
      "[02:54:23] DROP: {'x7', 'x18', 'x17', 'x11', 'x1'}\n",
      "[02:54:25] ITER: 3/20      SUBSET: 41/50      SCORE: \u001b[33m-6.9718\u001b[0m ± \u001b[36m2.9866\u001b[0m      ETA: 33 sec\n",
      "[02:54:25] DROP: {'x41', 'x37', 'x43', 'x40'}\n",
      "[02:54:27] ITER: 4/20      SUBSET: 37/50      SCORE: \u001b[33m-6.0186\u001b[0m ± \u001b[36m2.6229\u001b[0m      ETA: 30 sec\n",
      "[02:54:27] DROP: {'x42', 'x23', 'x30', 'x20'}\n",
      "[02:54:28] ITER: 5/20      SUBSET: 34/50      SCORE: \u001b[33m-5.4408\u001b[0m ± \u001b[36m2.2830\u001b[0m      ETA: 28 sec\n",
      "[02:54:28] DROP: {'x25', 'x21', 'x16'}\n",
      "[02:54:30] ITER: 6/20      SUBSET: 31/50      SCORE: \u001b[33m-4.9590\u001b[0m ± \u001b[36m2.0389\u001b[0m      ETA: 26 sec\n",
      "[02:54:30] DROP: {'x22', 'x24', 'x32'}\n",
      "[02:54:32] ITER: 7/20      SUBSET: 28/50      SCORE: \u001b[33m-4.6546\u001b[0m ± \u001b[36m1.8037\u001b[0m      ETA: 23 sec\n",
      "[02:54:32] DROP: {'x33', 'x0', 'x8'}\n",
      "[02:54:34] ITER: 8/20      SUBSET: 26/50      SCORE: \u001b[33m-4.4162\u001b[0m ± \u001b[36m1.5719\u001b[0m      ETA: 21 sec\n",
      "[02:54:34] DROP: {'x47', 'x35'}\n",
      "[02:54:35] ITER: 9/20      SUBSET: 24/50      SCORE: \u001b[33m-4.2958\u001b[0m ± \u001b[36m1.5163\u001b[0m      ETA: 19 sec\n",
      "[02:54:35] DROP: {'x38', 'x2'}\n",
      "[02:54:37] ITER: 10/20      SUBSET: 22/50      SCORE: \u001b[33m-4.1904\u001b[0m ± \u001b[36m1.3926\u001b[0m      ETA: 17 sec\n",
      "[02:54:37] DROP: {'x4', 'x10'}\n",
      "[02:54:38] ITER: 11/20      SUBSET: 20/50      SCORE: \u001b[33m-3.9471\u001b[0m ± \u001b[36m1.2408\u001b[0m      ETA: 15 sec\n",
      "[02:54:38] DROP: {'x39', 'x31'}\n",
      "[02:54:39] ITER: 12/20      SUBSET: 18/50      SCORE: \u001b[33m-3.8588\u001b[0m ± \u001b[36m1.2367\u001b[0m      ETA: 13 sec\n",
      "[02:54:39] DROP: {'x3', 'x27'}\n",
      "[02:54:40] ITER: 13/20      SUBSET: 17/50      SCORE: \u001b[33m-3.6370\u001b[0m ± \u001b[36m1.2364\u001b[0m      ETA: 11 sec\n",
      "[02:54:40] DROP: {'x5'}\n",
      "[02:54:42] ITER: 14/20      SUBSET: 16/50      SCORE: \u001b[33m-3.4130\u001b[0m ± \u001b[36m0.9383\u001b[0m      ETA: 9 sec\n",
      "[02:54:42] DROP: {'x15'}\n",
      "[02:54:43] ITER: 15/20      SUBSET: 15/50      SCORE: \u001b[33m-3.3562\u001b[0m ± \u001b[36m0.9220\u001b[0m      ETA: 7 sec\n",
      "[02:54:43] DROP: {'x13'}\n",
      "[02:54:44] ITER: 16/20      SUBSET: 14/50      SCORE: \u001b[33m-3.2246\u001b[0m ± 0.9325      ETA: 6 sec\n",
      "[02:54:44] DROP: {'x49'}\n",
      "[02:54:45] ITER: 17/20      SUBSET: 13/50      SCORE: \u001b[33m-3.1564\u001b[0m ± \u001b[36m0.8417\u001b[0m      ETA: 4 sec\n",
      "[02:54:45] DROP: {'x46'}\n",
      "[02:54:46] ITER: 18/20      SUBSET: 12/50      SCORE: \u001b[33m-3.0729\u001b[0m ± \u001b[36m0.7958\u001b[0m      ETA: 3 sec\n",
      "[02:54:46] DROP: {'x6'}\n",
      "[02:54:48] ITER: 19/20      SUBSET: 11/50      SCORE: \u001b[33m-2.9509\u001b[0m ± \u001b[36m0.7636\u001b[0m      ETA: 1 sec\n",
      "[02:54:48] DROP: {'x48'}\n",
      "[02:54:49] ITER: 20/20      SUBSET: 10/50      SCORE: \u001b[33m-2.7570\u001b[0m ± \u001b[36m0.6320\u001b[0m      ETA: 0 ms\n",
      "[02:54:49] DROP: {'x14'}\n",
      "Iterations limit exceed!\n"
     ]
    }
   ],
   "source": [
    "selector = PermutationRFE(model, cv, scoring, min_features=10, step=0.1, \n",
    "                          verbose=2, n_jobs=-1)\n",
    "selector.fit(X_train, y_train)\n",
    "\n",
    "features = selector.get_features()"
   ]
  },
  {
   "cell_type": "code",
   "execution_count": 9,
   "metadata": {},
   "outputs": [
    {
     "name": "stdout",
     "output_type": "stream",
     "text": [
      "[02:54:49]  Ridge\n",
      "\n",
      "[02:54:49]  FOLD  0:   -2.4788\n",
      "[02:54:49]  FOLD  1:   -2.7648\n",
      "[02:54:49]  FOLD  2:   -1.9524\n",
      "[02:54:49]  FOLD  3:   -3.8839\n",
      "[02:54:49]  FOLD  4:   -2.7053\n",
      "\n",
      "[02:54:49]  AVERAGE:   \u001b[33m-2.7570\u001b[0m ± 0.6320\n",
      "\n"
     ]
    },
    {
     "data": {
      "text/plain": [
       "-3.733918298961119"
      ]
     },
     "execution_count": 9,
     "metadata": {},
     "output_type": "execute_result"
    }
   ],
   "source": [
    "_, y_pred = crossval_predict(model, cv, X_train[features], y_train, X_new=X_test[features],\n",
    "                             scoring=scoring, method='predict_proba', verbose=2)\n",
    "\n",
    "get_score(y_test, y_pred)"
   ]
  }
 ],
 "metadata": {
  "kernelspec": {
   "display_name": "Python 3",
   "language": "python",
   "name": "python3"
  },
  "language_info": {
   "codemirror_mode": {
    "name": "ipython",
    "version": 3
   },
   "file_extension": ".py",
   "mimetype": "text/x-python",
   "name": "python",
   "nbconvert_exporter": "python",
   "pygments_lexer": "ipython3",
   "version": "3.6.8"
  }
 },
 "nbformat": 4,
 "nbformat_minor": 2
}
