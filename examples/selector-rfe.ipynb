{
 "cells": [
  {
   "cell_type": "markdown",
   "metadata": {},
   "source": [
    "# Import"
   ]
  },
  {
   "cell_type": "code",
   "execution_count": 1,
   "metadata": {},
   "outputs": [
    {
     "name": "stderr",
     "output_type": "stream",
     "text": [
      "Using TensorFlow backend.\n"
     ]
    }
   ],
   "source": [
    "# Basic\n",
    "import pandas as pd\n",
    "import numpy as np\n",
    "import warnings\n",
    "\n",
    "warnings.simplefilter('ignore')\n",
    "\n",
    "# ML Toolkit\n",
    "from robusta.selector import *\n",
    "from robusta.crossval import *\n",
    "from robusta.pipeline import *\n",
    "from robusta.preprocessing import *\n",
    "\n",
    "from sklearn.model_selection import train_test_split\n",
    "from sklearn.linear_model import *\n",
    "from sklearn.metrics import *\n",
    "\n",
    "# Model\n",
    "from lightgbm import LGBMClassifier"
   ]
  },
  {
   "cell_type": "markdown",
   "metadata": {},
   "source": [
    "# Data"
   ]
  },
  {
   "cell_type": "code",
   "execution_count": 2,
   "metadata": {},
   "outputs": [],
   "source": [
    "from sklearn.datasets import make_classification\n",
    "from sklearn.model_selection import train_test_split\n",
    "\n",
    "X, y = make_classification(n_samples=1000, n_features=50, n_informative=20, \n",
    "                           n_redundant=5, n_classes=2, n_clusters_per_class=3, \n",
    "                           random_state=666)\n",
    "\n",
    "X = pd.DataFrame(X)\n",
    "y = pd.Series(y)\n",
    "\n",
    "X.rename(columns=lambda x: 'x{}'.format(x), inplace=True)\n",
    "\n",
    "X_train, X_test, y_train, y_test = train_test_split(X, y, test_size=0.2, random_state=42)"
   ]
  },
  {
   "cell_type": "code",
   "execution_count": 3,
   "metadata": {},
   "outputs": [
    {
     "data": {
      "text/html": [
       "<div>\n",
       "<style scoped>\n",
       "    .dataframe tbody tr th:only-of-type {\n",
       "        vertical-align: middle;\n",
       "    }\n",
       "\n",
       "    .dataframe tbody tr th {\n",
       "        vertical-align: top;\n",
       "    }\n",
       "\n",
       "    .dataframe thead th {\n",
       "        text-align: right;\n",
       "    }\n",
       "</style>\n",
       "<table border=\"1\" class=\"dataframe\">\n",
       "  <thead>\n",
       "    <tr style=\"text-align: right;\">\n",
       "      <th></th>\n",
       "      <th>x0</th>\n",
       "      <th>x1</th>\n",
       "      <th>x2</th>\n",
       "      <th>x3</th>\n",
       "      <th>x4</th>\n",
       "      <th>x5</th>\n",
       "      <th>x6</th>\n",
       "      <th>x7</th>\n",
       "      <th>x8</th>\n",
       "      <th>x9</th>\n",
       "      <th>...</th>\n",
       "      <th>x40</th>\n",
       "      <th>x41</th>\n",
       "      <th>x42</th>\n",
       "      <th>x43</th>\n",
       "      <th>x44</th>\n",
       "      <th>x45</th>\n",
       "      <th>x46</th>\n",
       "      <th>x47</th>\n",
       "      <th>x48</th>\n",
       "      <th>x49</th>\n",
       "    </tr>\n",
       "  </thead>\n",
       "  <tbody>\n",
       "    <tr>\n",
       "      <td>521</td>\n",
       "      <td>-0.015545</td>\n",
       "      <td>3.120701</td>\n",
       "      <td>-0.952097</td>\n",
       "      <td>2.261142</td>\n",
       "      <td>-0.485901</td>\n",
       "      <td>1.727562</td>\n",
       "      <td>-0.682361</td>\n",
       "      <td>-0.736157</td>\n",
       "      <td>0.954906</td>\n",
       "      <td>0.323083</td>\n",
       "      <td>...</td>\n",
       "      <td>2.185016</td>\n",
       "      <td>-0.375094</td>\n",
       "      <td>3.046058</td>\n",
       "      <td>5.049321</td>\n",
       "      <td>-1.107050</td>\n",
       "      <td>-0.180777</td>\n",
       "      <td>-0.446804</td>\n",
       "      <td>2.495812</td>\n",
       "      <td>0.892103</td>\n",
       "      <td>-0.328104</td>\n",
       "    </tr>\n",
       "    <tr>\n",
       "      <td>737</td>\n",
       "      <td>0.938483</td>\n",
       "      <td>-0.114027</td>\n",
       "      <td>-0.634103</td>\n",
       "      <td>-3.072293</td>\n",
       "      <td>-0.719155</td>\n",
       "      <td>1.208492</td>\n",
       "      <td>0.035899</td>\n",
       "      <td>-0.582463</td>\n",
       "      <td>1.561299</td>\n",
       "      <td>-4.078034</td>\n",
       "      <td>...</td>\n",
       "      <td>0.127850</td>\n",
       "      <td>1.449720</td>\n",
       "      <td>-1.474860</td>\n",
       "      <td>-1.024908</td>\n",
       "      <td>1.965200</td>\n",
       "      <td>0.703258</td>\n",
       "      <td>0.151494</td>\n",
       "      <td>-4.599697</td>\n",
       "      <td>1.661065</td>\n",
       "      <td>-0.732552</td>\n",
       "    </tr>\n",
       "    <tr>\n",
       "      <td>740</td>\n",
       "      <td>0.426196</td>\n",
       "      <td>-1.923413</td>\n",
       "      <td>0.081620</td>\n",
       "      <td>2.799865</td>\n",
       "      <td>1.149632</td>\n",
       "      <td>-0.634046</td>\n",
       "      <td>0.423921</td>\n",
       "      <td>1.427695</td>\n",
       "      <td>-0.198778</td>\n",
       "      <td>-7.494691</td>\n",
       "      <td>...</td>\n",
       "      <td>-0.818374</td>\n",
       "      <td>-1.032857</td>\n",
       "      <td>-1.475499</td>\n",
       "      <td>-0.330181</td>\n",
       "      <td>1.264079</td>\n",
       "      <td>-0.765433</td>\n",
       "      <td>-0.678938</td>\n",
       "      <td>0.939628</td>\n",
       "      <td>2.061886</td>\n",
       "      <td>0.882823</td>\n",
       "    </tr>\n",
       "    <tr>\n",
       "      <td>660</td>\n",
       "      <td>0.971310</td>\n",
       "      <td>0.542094</td>\n",
       "      <td>0.002276</td>\n",
       "      <td>0.522958</td>\n",
       "      <td>-0.469007</td>\n",
       "      <td>1.102414</td>\n",
       "      <td>-0.197951</td>\n",
       "      <td>-0.075132</td>\n",
       "      <td>-0.973817</td>\n",
       "      <td>-3.635104</td>\n",
       "      <td>...</td>\n",
       "      <td>0.586837</td>\n",
       "      <td>3.191036</td>\n",
       "      <td>-0.552804</td>\n",
       "      <td>0.853129</td>\n",
       "      <td>3.049305</td>\n",
       "      <td>0.875181</td>\n",
       "      <td>1.141393</td>\n",
       "      <td>2.431720</td>\n",
       "      <td>2.034581</td>\n",
       "      <td>-0.054248</td>\n",
       "    </tr>\n",
       "    <tr>\n",
       "      <td>411</td>\n",
       "      <td>-0.827593</td>\n",
       "      <td>-1.197363</td>\n",
       "      <td>1.730815</td>\n",
       "      <td>4.004263</td>\n",
       "      <td>0.677573</td>\n",
       "      <td>0.147013</td>\n",
       "      <td>-0.115850</td>\n",
       "      <td>0.581984</td>\n",
       "      <td>-2.249601</td>\n",
       "      <td>0.410509</td>\n",
       "      <td>...</td>\n",
       "      <td>0.235676</td>\n",
       "      <td>-3.486864</td>\n",
       "      <td>-0.877853</td>\n",
       "      <td>2.466350</td>\n",
       "      <td>-0.616883</td>\n",
       "      <td>0.547480</td>\n",
       "      <td>0.371583</td>\n",
       "      <td>1.330100</td>\n",
       "      <td>1.617696</td>\n",
       "      <td>-0.463036</td>\n",
       "    </tr>\n",
       "    <tr>\n",
       "      <td>...</td>\n",
       "      <td>...</td>\n",
       "      <td>...</td>\n",
       "      <td>...</td>\n",
       "      <td>...</td>\n",
       "      <td>...</td>\n",
       "      <td>...</td>\n",
       "      <td>...</td>\n",
       "      <td>...</td>\n",
       "      <td>...</td>\n",
       "      <td>...</td>\n",
       "      <td>...</td>\n",
       "      <td>...</td>\n",
       "      <td>...</td>\n",
       "      <td>...</td>\n",
       "      <td>...</td>\n",
       "      <td>...</td>\n",
       "      <td>...</td>\n",
       "      <td>...</td>\n",
       "      <td>...</td>\n",
       "      <td>...</td>\n",
       "      <td>...</td>\n",
       "    </tr>\n",
       "    <tr>\n",
       "      <td>408</td>\n",
       "      <td>-0.092397</td>\n",
       "      <td>-2.051265</td>\n",
       "      <td>-0.368744</td>\n",
       "      <td>3.758068</td>\n",
       "      <td>-1.231090</td>\n",
       "      <td>-0.664343</td>\n",
       "      <td>-0.967801</td>\n",
       "      <td>1.899223</td>\n",
       "      <td>0.023334</td>\n",
       "      <td>1.401348</td>\n",
       "      <td>...</td>\n",
       "      <td>0.263918</td>\n",
       "      <td>3.622385</td>\n",
       "      <td>-3.186513</td>\n",
       "      <td>-1.434954</td>\n",
       "      <td>3.269006</td>\n",
       "      <td>2.380049</td>\n",
       "      <td>0.711234</td>\n",
       "      <td>-0.690256</td>\n",
       "      <td>-0.340061</td>\n",
       "      <td>-1.505044</td>\n",
       "    </tr>\n",
       "    <tr>\n",
       "      <td>332</td>\n",
       "      <td>0.260335</td>\n",
       "      <td>2.925519</td>\n",
       "      <td>0.063404</td>\n",
       "      <td>0.499770</td>\n",
       "      <td>-0.151398</td>\n",
       "      <td>0.707486</td>\n",
       "      <td>2.024642</td>\n",
       "      <td>-2.097941</td>\n",
       "      <td>0.260230</td>\n",
       "      <td>-5.095540</td>\n",
       "      <td>...</td>\n",
       "      <td>-0.272538</td>\n",
       "      <td>5.402958</td>\n",
       "      <td>1.055036</td>\n",
       "      <td>-3.539942</td>\n",
       "      <td>-0.587854</td>\n",
       "      <td>1.548070</td>\n",
       "      <td>0.840004</td>\n",
       "      <td>3.241976</td>\n",
       "      <td>-0.573676</td>\n",
       "      <td>0.145328</td>\n",
       "    </tr>\n",
       "    <tr>\n",
       "      <td>208</td>\n",
       "      <td>-1.612152</td>\n",
       "      <td>2.016041</td>\n",
       "      <td>-1.333888</td>\n",
       "      <td>1.196686</td>\n",
       "      <td>-2.193994</td>\n",
       "      <td>2.114421</td>\n",
       "      <td>-0.306809</td>\n",
       "      <td>0.374249</td>\n",
       "      <td>1.179624</td>\n",
       "      <td>0.460604</td>\n",
       "      <td>...</td>\n",
       "      <td>0.234624</td>\n",
       "      <td>1.151448</td>\n",
       "      <td>1.874006</td>\n",
       "      <td>1.401194</td>\n",
       "      <td>-0.203070</td>\n",
       "      <td>1.015166</td>\n",
       "      <td>-0.593770</td>\n",
       "      <td>0.977323</td>\n",
       "      <td>2.704582</td>\n",
       "      <td>-0.361519</td>\n",
       "    </tr>\n",
       "    <tr>\n",
       "      <td>613</td>\n",
       "      <td>0.854486</td>\n",
       "      <td>-1.786048</td>\n",
       "      <td>-0.161680</td>\n",
       "      <td>-5.288175</td>\n",
       "      <td>0.167380</td>\n",
       "      <td>0.178870</td>\n",
       "      <td>2.773503</td>\n",
       "      <td>1.068635</td>\n",
       "      <td>-1.428526</td>\n",
       "      <td>19.775181</td>\n",
       "      <td>...</td>\n",
       "      <td>0.837280</td>\n",
       "      <td>2.548546</td>\n",
       "      <td>-7.298736</td>\n",
       "      <td>-0.222159</td>\n",
       "      <td>-3.649191</td>\n",
       "      <td>-1.130297</td>\n",
       "      <td>0.034346</td>\n",
       "      <td>-1.371287</td>\n",
       "      <td>-0.154926</td>\n",
       "      <td>-0.257729</td>\n",
       "    </tr>\n",
       "    <tr>\n",
       "      <td>78</td>\n",
       "      <td>-0.759606</td>\n",
       "      <td>1.249701</td>\n",
       "      <td>-0.013018</td>\n",
       "      <td>-1.010509</td>\n",
       "      <td>-1.011862</td>\n",
       "      <td>-0.820408</td>\n",
       "      <td>0.727796</td>\n",
       "      <td>0.928231</td>\n",
       "      <td>-0.712861</td>\n",
       "      <td>-6.454165</td>\n",
       "      <td>...</td>\n",
       "      <td>-2.609401</td>\n",
       "      <td>0.165840</td>\n",
       "      <td>-8.004131</td>\n",
       "      <td>-2.265656</td>\n",
       "      <td>3.507251</td>\n",
       "      <td>-1.286238</td>\n",
       "      <td>-1.661326</td>\n",
       "      <td>-1.041656</td>\n",
       "      <td>0.436537</td>\n",
       "      <td>0.047449</td>\n",
       "    </tr>\n",
       "  </tbody>\n",
       "</table>\n",
       "<p>200 rows × 50 columns</p>\n",
       "</div>"
      ],
      "text/plain": [
       "           x0        x1        x2        x3        x4        x5        x6  \\\n",
       "521 -0.015545  3.120701 -0.952097  2.261142 -0.485901  1.727562 -0.682361   \n",
       "737  0.938483 -0.114027 -0.634103 -3.072293 -0.719155  1.208492  0.035899   \n",
       "740  0.426196 -1.923413  0.081620  2.799865  1.149632 -0.634046  0.423921   \n",
       "660  0.971310  0.542094  0.002276  0.522958 -0.469007  1.102414 -0.197951   \n",
       "411 -0.827593 -1.197363  1.730815  4.004263  0.677573  0.147013 -0.115850   \n",
       "..        ...       ...       ...       ...       ...       ...       ...   \n",
       "408 -0.092397 -2.051265 -0.368744  3.758068 -1.231090 -0.664343 -0.967801   \n",
       "332  0.260335  2.925519  0.063404  0.499770 -0.151398  0.707486  2.024642   \n",
       "208 -1.612152  2.016041 -1.333888  1.196686 -2.193994  2.114421 -0.306809   \n",
       "613  0.854486 -1.786048 -0.161680 -5.288175  0.167380  0.178870  2.773503   \n",
       "78  -0.759606  1.249701 -0.013018 -1.010509 -1.011862 -0.820408  0.727796   \n",
       "\n",
       "           x7        x8         x9  ...       x40       x41       x42  \\\n",
       "521 -0.736157  0.954906   0.323083  ...  2.185016 -0.375094  3.046058   \n",
       "737 -0.582463  1.561299  -4.078034  ...  0.127850  1.449720 -1.474860   \n",
       "740  1.427695 -0.198778  -7.494691  ... -0.818374 -1.032857 -1.475499   \n",
       "660 -0.075132 -0.973817  -3.635104  ...  0.586837  3.191036 -0.552804   \n",
       "411  0.581984 -2.249601   0.410509  ...  0.235676 -3.486864 -0.877853   \n",
       "..        ...       ...        ...  ...       ...       ...       ...   \n",
       "408  1.899223  0.023334   1.401348  ...  0.263918  3.622385 -3.186513   \n",
       "332 -2.097941  0.260230  -5.095540  ... -0.272538  5.402958  1.055036   \n",
       "208  0.374249  1.179624   0.460604  ...  0.234624  1.151448  1.874006   \n",
       "613  1.068635 -1.428526  19.775181  ...  0.837280  2.548546 -7.298736   \n",
       "78   0.928231 -0.712861  -6.454165  ... -2.609401  0.165840 -8.004131   \n",
       "\n",
       "          x43       x44       x45       x46       x47       x48       x49  \n",
       "521  5.049321 -1.107050 -0.180777 -0.446804  2.495812  0.892103 -0.328104  \n",
       "737 -1.024908  1.965200  0.703258  0.151494 -4.599697  1.661065 -0.732552  \n",
       "740 -0.330181  1.264079 -0.765433 -0.678938  0.939628  2.061886  0.882823  \n",
       "660  0.853129  3.049305  0.875181  1.141393  2.431720  2.034581 -0.054248  \n",
       "411  2.466350 -0.616883  0.547480  0.371583  1.330100  1.617696 -0.463036  \n",
       "..        ...       ...       ...       ...       ...       ...       ...  \n",
       "408 -1.434954  3.269006  2.380049  0.711234 -0.690256 -0.340061 -1.505044  \n",
       "332 -3.539942 -0.587854  1.548070  0.840004  3.241976 -0.573676  0.145328  \n",
       "208  1.401194 -0.203070  1.015166 -0.593770  0.977323  2.704582 -0.361519  \n",
       "613 -0.222159 -3.649191 -1.130297  0.034346 -1.371287 -0.154926 -0.257729  \n",
       "78  -2.265656  3.507251 -1.286238 -1.661326 -1.041656  0.436537  0.047449  \n",
       "\n",
       "[200 rows x 50 columns]"
      ]
     },
     "execution_count": 3,
     "metadata": {},
     "output_type": "execute_result"
    }
   ],
   "source": [
    "X_test"
   ]
  },
  {
   "cell_type": "markdown",
   "metadata": {},
   "source": [
    "# Task & Model"
   ]
  },
  {
   "cell_type": "code",
   "execution_count": 4,
   "metadata": {},
   "outputs": [],
   "source": [
    "scoring = 'roc_auc'\n",
    "cv = 5\n",
    "\n",
    "model = LogisticRegression()"
   ]
  },
  {
   "cell_type": "markdown",
   "metadata": {},
   "source": [
    "# Baseline"
   ]
  },
  {
   "cell_type": "code",
   "execution_count": 5,
   "metadata": {},
   "outputs": [
    {
     "name": "stdout",
     "output_type": "stream",
     "text": [
      "[01:14:12]  LogisticRegression\n",
      "\n",
      "[01:14:12]  FOLD  0:   0.8495\n",
      "[01:14:12]  FOLD  1:   0.9011\n",
      "[01:14:12]  FOLD  2:   0.8280\n",
      "[01:14:12]  FOLD  3:   0.8470\n",
      "[01:14:12]  FOLD  4:   0.8074\n",
      "\n",
      "[01:14:12]  AVERAGE:   \u001b[33m0.8466\u001b[0m ± 0.0312\n",
      "\n"
     ]
    },
    {
     "data": {
      "text/plain": [
       "0.8626"
      ]
     },
     "execution_count": 5,
     "metadata": {},
     "output_type": "execute_result"
    }
   ],
   "source": [
    "features = X_train.columns\n",
    "\n",
    "_, y_pred = crossval_predict(model, cv, X_train[features], y_train, X_new=X_test[features],\n",
    "                             scoring=scoring, method='predict_proba',\n",
    "                             verbose=2, n_jobs=None)\n",
    "\n",
    "roc_auc_score(y_test, y_pred)"
   ]
  },
  {
   "cell_type": "markdown",
   "metadata": {},
   "source": [
    "# Selector"
   ]
  },
  {
   "cell_type": "markdown",
   "metadata": {},
   "source": [
    "## RFE \n",
    "#### (Recursive Feature Elimination)"
   ]
  },
  {
   "cell_type": "code",
   "execution_count": 11,
   "metadata": {},
   "outputs": [
    {
     "name": "stdout",
     "output_type": "stream",
     "text": [
      "[01:17:13] ITER: 1/9      SUBSET: 50/50      SCORE: \u001b[33m0.8466\u001b[0m ± \u001b[36m0.0312\u001b[0m      ETA: 879 ms\n",
      "[01:17:13] ITER: 2/9      SUBSET: 45/50      SCORE: \u001b[33m0.8466\u001b[0m ± 0.0312      ETA: 770 ms\n",
      "[01:17:13] ITER: 3/9      SUBSET: 41/50      SCORE: \u001b[33m0.8492\u001b[0m ± \u001b[36m0.0307\u001b[0m      ETA: 662 ms\n",
      "[01:17:13] ITER: 4/9      SUBSET: 37/50      SCORE: \u001b[33m0.8547\u001b[0m ± 0.0312      ETA: 550 ms\n",
      "[01:17:14] ITER: 5/9      SUBSET: 34/50      SCORE: \u001b[33m0.8559\u001b[0m ± \u001b[36m0.0293\u001b[0m      ETA: 439 ms\n",
      "[01:17:14] ITER: 6/9      SUBSET: 31/50      SCORE: 0.8540 ± \u001b[36m0.0285\u001b[0m      ETA: 328 ms\n",
      "[01:17:14] ITER: 7/9      SUBSET: 28/50      SCORE: \u001b[33m0.8562\u001b[0m ± 0.0292      ETA: 218 ms\n",
      "[01:17:14] ITER: 8/9      SUBSET: 26/50      SCORE: \u001b[33m0.8573\u001b[0m ± 0.0292      ETA: 108 ms\n",
      "[01:17:14] ITER: 9/9      SUBSET: 25/50      SCORE: 0.8572 ± 0.0304      ETA: 0 ms\n",
      "Iterations limit exceed!\n"
     ]
    }
   ],
   "source": [
    "selector = RFE(model, cv, scoring, step=0.1, n_jobs=-1)\n",
    "selector.fit(X_train, y_train)\n",
    "\n",
    "features = selector.get_features()"
   ]
  },
  {
   "cell_type": "code",
   "execution_count": 12,
   "metadata": {},
   "outputs": [
    {
     "name": "stdout",
     "output_type": "stream",
     "text": [
      "[01:17:16]  LogisticRegression\n",
      "\n",
      "[01:17:16]  FOLD  0:   0.8623\n",
      "[01:17:16]  FOLD  1:   0.9054\n",
      "[01:17:16]  FOLD  2:   0.8314\n",
      "[01:17:17]  FOLD  3:   0.8646\n",
      "[01:17:17]  FOLD  4:   0.8228\n",
      "\n",
      "[01:17:17]  AVERAGE:   \u001b[33m0.8573\u001b[0m ± 0.0292\n",
      "\n"
     ]
    },
    {
     "data": {
      "text/plain": [
       "0.8686"
      ]
     },
     "execution_count": 12,
     "metadata": {},
     "output_type": "execute_result"
    }
   ],
   "source": [
    "result = crossval(model, cv, X_train[features], y_train, X_new=X_test[features],\n",
    "                  scoring=scoring, method='predict_proba', verbose=2)\n",
    "\n",
    "roc_auc_score(y_test, y_pred)"
   ]
  },
  {
   "cell_type": "markdown",
   "metadata": {},
   "source": [
    "## RFE via Permutation Importance"
   ]
  },
  {
   "cell_type": "code",
   "execution_count": 8,
   "metadata": {},
   "outputs": [
    {
     "name": "stdout",
     "output_type": "stream",
     "text": [
      "[01:14:15] ITER: 1/9      SUBSET: 50/50      SCORE: \u001b[33m0.8466\u001b[0m ± \u001b[36m0.0312\u001b[0m      ETA: 18 sec\n",
      "[01:14:17] ITER: 2/9      SUBSET: 45/50      SCORE: \u001b[33m0.8531\u001b[0m ± \u001b[36m0.0291\u001b[0m      ETA: 15 sec\n",
      "[01:14:20] ITER: 3/9      SUBSET: 41/50      SCORE: \u001b[33m0.8574\u001b[0m ± \u001b[36m0.0283\u001b[0m      ETA: 13 sec\n",
      "[01:14:22] ITER: 4/9      SUBSET: 37/50      SCORE: \u001b[33m0.8621\u001b[0m ± \u001b[36m0.0256\u001b[0m      ETA: 11 sec\n",
      "[01:14:24] ITER: 5/9      SUBSET: 34/50      SCORE: \u001b[33m0.8646\u001b[0m ± \u001b[36m0.0255\u001b[0m      ETA: 8 sec\n",
      "[01:14:26] ITER: 6/9      SUBSET: 31/50      SCORE: \u001b[33m0.8661\u001b[0m ± \u001b[36m0.0236\u001b[0m      ETA: 6 sec\n",
      "[01:14:28] ITER: 7/9      SUBSET: 28/50      SCORE: \u001b[33m0.8677\u001b[0m ± 0.0246      ETA: 4 sec\n",
      "[01:14:30] ITER: 8/9      SUBSET: 26/50      SCORE: \u001b[33m0.8681\u001b[0m ± 0.0261      ETA: 2 sec\n",
      "[01:14:32] ITER: 9/9      SUBSET: 25/50      SCORE: \u001b[33m0.8684\u001b[0m ± 0.0262      ETA: 0 ms\n",
      "Iterations limit exceed!\n"
     ]
    }
   ],
   "source": [
    "selector = PermutationRFE(model, cv, scoring, step=0.1, n_jobs=-1)\n",
    "selector.fit(X_train, y_train)\n",
    "\n",
    "features = selector.get_features()"
   ]
  },
  {
   "cell_type": "code",
   "execution_count": 10,
   "metadata": {},
   "outputs": [
    {
     "name": "stdout",
     "output_type": "stream",
     "text": [
      "[01:14:40]  LogisticRegression\n",
      "\n",
      "[01:14:40]  FOLD  0:   0.8586\n",
      "[01:14:40]  FOLD  1:   0.9116\n",
      "[01:14:40]  FOLD  2:   0.8728\n",
      "[01:14:40]  FOLD  3:   0.8685\n",
      "[01:14:40]  FOLD  4:   0.8302\n",
      "\n",
      "[01:14:40]  AVERAGE:   \u001b[33m0.8684\u001b[0m ± 0.0262\n",
      "\n"
     ]
    },
    {
     "data": {
      "text/plain": [
       "0.8686"
      ]
     },
     "execution_count": 10,
     "metadata": {},
     "output_type": "execute_result"
    }
   ],
   "source": [
    "_, y_pred = crossval_predict(model, cv, X_train[features], y_train, X_new=X_test[features],\n",
    "                             scoring=scoring, method='predict_proba', verbose=2)\n",
    "\n",
    "roc_auc_score(y_test, y_pred)"
   ]
  },
  {
   "cell_type": "markdown",
   "metadata": {},
   "source": [
    "# ___TEST___"
   ]
  },
  {
   "cell_type": "code",
   "execution_count": null,
   "metadata": {},
   "outputs": [],
   "source": []
  }
 ],
 "metadata": {
  "kernelspec": {
   "display_name": "Python 3",
   "language": "python",
   "name": "python3"
  },
  "language_info": {
   "codemirror_mode": {
    "name": "ipython",
    "version": 3
   },
   "file_extension": ".py",
   "mimetype": "text/x-python",
   "name": "python",
   "nbconvert_exporter": "python",
   "pygments_lexer": "ipython3",
   "version": "3.6.8"
  }
 },
 "nbformat": 4,
 "nbformat_minor": 2
}
