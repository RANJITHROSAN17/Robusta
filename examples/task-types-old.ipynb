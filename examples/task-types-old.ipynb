{
 "cells": [
  {
   "cell_type": "markdown",
   "metadata": {},
   "source": [
    "# Import"
   ]
  },
  {
   "cell_type": "code",
   "execution_count": 32,
   "metadata": {},
   "outputs": [
    {
     "name": "stdout",
     "output_type": "stream",
     "text": [
      "2.66 s ± 98 ms per loop (mean ± std. dev. of 7 runs, 1 loop each)\n",
      "peak memory: 239.73 MiB, increment: 72.67 MiB\n"
     ]
    }
   ],
   "source": [
    "kwargs = dict(\n",
    "    method='predict',\n",
    "    avg_type='mean',\n",
    "    \n",
    "    estimator=LGBMRegressor(),\n",
    "    cv=cv,\n",
    "    X=X_train,\n",
    "    y=y_train,\n",
    "    X_new=X_test,\n",
    "    scoring=scoring,\n",
    "    verbose=0,\n",
    "    n_jobs=-1,\n",
    ")\n",
    "\n",
    "%timeit crossval_predict(**kwargs)\n",
    "%memit crossval_predict(**kwargs)"
   ]
  },
  {
   "cell_type": "code",
   "execution_count": 27,
   "metadata": {},
   "outputs": [
    {
     "name": "stdout",
     "output_type": "stream",
     "text": [
      "2.81 s ± 133 ms per loop (mean ± std. dev. of 7 runs, 1 loop each)\n",
      "peak memory: 240.86 MiB, increment: 69.47 MiB\n"
     ]
    }
   ],
   "source": [
    "kwargs = dict(\n",
    "    method='predict_proba',\n",
    "    avg_type='mean',\n",
    "    \n",
    "    estimator=LGBMClassifier(),\n",
    "    cv=cv,\n",
    "    X=X_train,\n",
    "    y=y_train,\n",
    "    X_new=X_test,\n",
    "    scoring=scoring,\n",
    "    verbose=0,\n",
    "    n_jobs=-1,\n",
    ")\n",
    "\n",
    "%timeit crossval_predict(**kwargs)\n",
    "%memit crossval_predict(**kwargs)"
   ]
  },
  {
   "cell_type": "code",
   "execution_count": 28,
   "metadata": {},
   "outputs": [
    {
     "name": "stdout",
     "output_type": "stream",
     "text": [
      "3.11 s ± 120 ms per loop (mean ± std. dev. of 7 runs, 1 loop each)\n",
      "peak memory: 239.34 MiB, increment: 67.59 MiB\n"
     ]
    }
   ],
   "source": [
    "kwargs = dict(\n",
    "    method='predict_proba',\n",
    "    avg_type='rank',\n",
    "    \n",
    "    estimator=LGBMClassifier(),\n",
    "    cv=cv,\n",
    "    X=X_train,\n",
    "    y=y_train,\n",
    "    X_new=X_test,\n",
    "    scoring=scoring,\n",
    "    verbose=0,\n",
    "    n_jobs=-1,\n",
    ")\n",
    "\n",
    "%timeit crossval_predict(**kwargs)\n",
    "%memit crossval_predict(**kwargs)"
   ]
  },
  {
   "cell_type": "code",
   "execution_count": 29,
   "metadata": {},
   "outputs": [
    {
     "name": "stdout",
     "output_type": "stream",
     "text": [
      "3.31 s ± 167 ms per loop (mean ± std. dev. of 7 runs, 1 loop each)\n",
      "peak memory: 242.23 MiB, increment: 74.39 MiB\n"
     ]
    }
   ],
   "source": [
    "kwargs = dict(\n",
    "    method='predict_proba',\n",
    "    avg_type='pass',\n",
    "    \n",
    "    estimator=LGBMClassifier(),\n",
    "    cv=cv,\n",
    "    X=X_train,\n",
    "    y=y_train,\n",
    "    X_new=X_test,\n",
    "    scoring=scoring,\n",
    "    verbose=0,\n",
    "    n_jobs=-1,\n",
    ")\n",
    "\n",
    "%timeit crossval_predict(**kwargs)\n",
    "%memit crossval_predict(**kwargs)"
   ]
  },
  {
   "cell_type": "code",
   "execution_count": 30,
   "metadata": {},
   "outputs": [
    {
     "name": "stdout",
     "output_type": "stream",
     "text": [
      "3.45 s ± 228 ms per loop (mean ± std. dev. of 7 runs, 1 loop each)\n",
      "peak memory: 243.48 MiB, increment: 75.36 MiB\n"
     ]
    }
   ],
   "source": [
    "kwargs = dict(\n",
    "    method='predict',\n",
    "    avg_type='soft',\n",
    "    \n",
    "    estimator=LGBMClassifier(),\n",
    "    cv=cv,\n",
    "    X=X_train,\n",
    "    y=y_train,\n",
    "    X_new=X_test,\n",
    "    scoring=scoring,\n",
    "    verbose=0,\n",
    "    n_jobs=-1,\n",
    ")\n",
    "\n",
    "%timeit crossval_predict(**kwargs)\n",
    "%memit crossval_predict(**kwargs)"
   ]
  },
  {
   "cell_type": "code",
   "execution_count": 31,
   "metadata": {},
   "outputs": [
    {
     "name": "stdout",
     "output_type": "stream",
     "text": [
      "25.8 s ± 296 ms per loop (mean ± std. dev. of 7 runs, 1 loop each)\n",
      "peak memory: 245.39 MiB, increment: 78.12 MiB\n"
     ]
    }
   ],
   "source": [
    "kwargs = dict(\n",
    "    method='predict',\n",
    "    avg_type='hard',\n",
    "    \n",
    "    estimator=LGBMClassifier(),\n",
    "    cv=cv,\n",
    "    X=X_train,\n",
    "    y=y_train,\n",
    "    X_new=X_test,\n",
    "    scoring=scoring,\n",
    "    verbose=0,\n",
    "    n_jobs=-1,\n",
    ")\n",
    "\n",
    "%timeit crossval_predict(**kwargs)\n",
    "%memit crossval_predict(**kwargs)"
   ]
  }
 ],
 "metadata": {
  "kernelspec": {
   "display_name": "Python 3",
   "language": "python",
   "name": "python3"
  },
  "language_info": {
   "codemirror_mode": {
    "name": "ipython",
    "version": 3
   },
   "file_extension": ".py",
   "mimetype": "text/x-python",
   "name": "python",
   "nbconvert_exporter": "python",
   "pygments_lexer": "ipython3",
   "version": "3.6.8"
  }
 },
 "nbformat": 4,
 "nbformat_minor": 2
}
