{
 "cells": [
  {
   "cell_type": "markdown",
   "metadata": {
    "heading_collapsed": true
   },
   "source": [
    "## Imports"
   ]
  },
  {
   "cell_type": "code",
   "execution_count": 1,
   "metadata": {
    "hidden": true
   },
   "outputs": [],
   "source": [
    "# Basic imports\n",
    "import pandas as pd\n",
    "import numpy as np\n",
    "\n",
    "# Warnings\n",
    "import warnings \n",
    "warnings.simplefilter(\"ignore\")"
   ]
  },
  {
   "cell_type": "code",
   "execution_count": 2,
   "metadata": {
    "hidden": true
   },
   "outputs": [],
   "source": [
    "# Plot\n",
    "from IPython import display\n",
    "import seaborn as sns\n",
    "\n",
    "import matplotlib\n",
    "import matplotlib.pylab as plt\n",
    "from jupyterthemes import jtplot\n",
    "\n",
    "jtplot.style('gruvboxd')\n",
    "matplotlib.use('nbagg')"
   ]
  },
  {
   "cell_type": "markdown",
   "metadata": {
    "heading_collapsed": true
   },
   "source": [
    "## Data Reading"
   ]
  },
  {
   "cell_type": "code",
   "execution_count": 3,
   "metadata": {
    "hidden": true
   },
   "outputs": [
    {
     "data": {
      "text/html": [
       "<div>\n",
       "<style scoped>\n",
       "    .dataframe tbody tr th:only-of-type {\n",
       "        vertical-align: middle;\n",
       "    }\n",
       "\n",
       "    .dataframe tbody tr th {\n",
       "        vertical-align: top;\n",
       "    }\n",
       "\n",
       "    .dataframe thead th {\n",
       "        text-align: right;\n",
       "    }\n",
       "</style>\n",
       "<table border=\"1\" class=\"dataframe\">\n",
       "  <thead>\n",
       "    <tr style=\"text-align: right;\">\n",
       "      <th></th>\n",
       "      <th>Pclass</th>\n",
       "      <th>Name</th>\n",
       "      <th>Sex</th>\n",
       "      <th>Age</th>\n",
       "      <th>SibSp</th>\n",
       "      <th>Parch</th>\n",
       "      <th>Ticket</th>\n",
       "      <th>Fare</th>\n",
       "      <th>Cabin</th>\n",
       "      <th>Embarked</th>\n",
       "    </tr>\n",
       "    <tr>\n",
       "      <th>PassengerId</th>\n",
       "      <th></th>\n",
       "      <th></th>\n",
       "      <th></th>\n",
       "      <th></th>\n",
       "      <th></th>\n",
       "      <th></th>\n",
       "      <th></th>\n",
       "      <th></th>\n",
       "      <th></th>\n",
       "      <th></th>\n",
       "    </tr>\n",
       "  </thead>\n",
       "  <tbody>\n",
       "    <tr>\n",
       "      <th>1</th>\n",
       "      <td>3</td>\n",
       "      <td>Braund, Mr. Owen Harris</td>\n",
       "      <td>male</td>\n",
       "      <td>22.0</td>\n",
       "      <td>1</td>\n",
       "      <td>0</td>\n",
       "      <td>A/5 21171</td>\n",
       "      <td>7.2500</td>\n",
       "      <td>NaN</td>\n",
       "      <td>S</td>\n",
       "    </tr>\n",
       "    <tr>\n",
       "      <th>2</th>\n",
       "      <td>1</td>\n",
       "      <td>Cumings, Mrs. John Bradley (Florence Briggs Th...</td>\n",
       "      <td>female</td>\n",
       "      <td>38.0</td>\n",
       "      <td>1</td>\n",
       "      <td>0</td>\n",
       "      <td>PC 17599</td>\n",
       "      <td>71.2833</td>\n",
       "      <td>C85</td>\n",
       "      <td>C</td>\n",
       "    </tr>\n",
       "    <tr>\n",
       "      <th>3</th>\n",
       "      <td>3</td>\n",
       "      <td>Heikkinen, Miss. Laina</td>\n",
       "      <td>female</td>\n",
       "      <td>26.0</td>\n",
       "      <td>0</td>\n",
       "      <td>0</td>\n",
       "      <td>STON/O2. 3101282</td>\n",
       "      <td>7.9250</td>\n",
       "      <td>NaN</td>\n",
       "      <td>S</td>\n",
       "    </tr>\n",
       "    <tr>\n",
       "      <th>4</th>\n",
       "      <td>1</td>\n",
       "      <td>Futrelle, Mrs. Jacques Heath (Lily May Peel)</td>\n",
       "      <td>female</td>\n",
       "      <td>35.0</td>\n",
       "      <td>1</td>\n",
       "      <td>0</td>\n",
       "      <td>113803</td>\n",
       "      <td>53.1000</td>\n",
       "      <td>C123</td>\n",
       "      <td>S</td>\n",
       "    </tr>\n",
       "    <tr>\n",
       "      <th>5</th>\n",
       "      <td>3</td>\n",
       "      <td>Allen, Mr. William Henry</td>\n",
       "      <td>male</td>\n",
       "      <td>35.0</td>\n",
       "      <td>0</td>\n",
       "      <td>0</td>\n",
       "      <td>373450</td>\n",
       "      <td>8.0500</td>\n",
       "      <td>NaN</td>\n",
       "      <td>S</td>\n",
       "    </tr>\n",
       "  </tbody>\n",
       "</table>\n",
       "</div>"
      ],
      "text/plain": [
       "             Pclass                                               Name  \\\n",
       "PassengerId                                                              \n",
       "1                 3                            Braund, Mr. Owen Harris   \n",
       "2                 1  Cumings, Mrs. John Bradley (Florence Briggs Th...   \n",
       "3                 3                             Heikkinen, Miss. Laina   \n",
       "4                 1       Futrelle, Mrs. Jacques Heath (Lily May Peel)   \n",
       "5                 3                           Allen, Mr. William Henry   \n",
       "\n",
       "                Sex   Age  SibSp  Parch            Ticket     Fare Cabin  \\\n",
       "PassengerId                                                                \n",
       "1              male  22.0      1      0         A/5 21171   7.2500   NaN   \n",
       "2            female  38.0      1      0          PC 17599  71.2833   C85   \n",
       "3            female  26.0      0      0  STON/O2. 3101282   7.9250   NaN   \n",
       "4            female  35.0      1      0            113803  53.1000  C123   \n",
       "5              male  35.0      0      0            373450   8.0500   NaN   \n",
       "\n",
       "            Embarked  \n",
       "PassengerId           \n",
       "1                  S  \n",
       "2                  C  \n",
       "3                  S  \n",
       "4                  S  \n",
       "5                  S  "
      ]
     },
     "execution_count": 3,
     "metadata": {},
     "output_type": "execute_result"
    }
   ],
   "source": [
    "from catboost.datasets import titanic\n",
    "\n",
    "# Data Reading\n",
    "df_train, df_test = titanic()\n",
    "df_train.set_index('PassengerId', inplace=True)\n",
    "df_test.set_index('PassengerId', inplace=True)\n",
    "\n",
    "# Split X_train, y_train\n",
    "target = 'Survived'\n",
    "features = df_test.columns\n",
    "\n",
    "y_train = df_train[target]\n",
    "df_train = df_train[features]\n",
    "\n",
    "df_train.head()"
   ]
  },
  {
   "cell_type": "markdown",
   "metadata": {
    "heading_collapsed": true
   },
   "source": [
    "## Preprocessing"
   ]
  },
  {
   "cell_type": "code",
   "execution_count": 4,
   "metadata": {
    "hidden": true
   },
   "outputs": [
    {
     "data": {
      "text/html": [
       "<div>\n",
       "<style scoped>\n",
       "    .dataframe tbody tr th:only-of-type {\n",
       "        vertical-align: middle;\n",
       "    }\n",
       "\n",
       "    .dataframe tbody tr th {\n",
       "        vertical-align: top;\n",
       "    }\n",
       "\n",
       "    .dataframe thead th {\n",
       "        text-align: right;\n",
       "    }\n",
       "</style>\n",
       "<table border=\"1\" class=\"dataframe\">\n",
       "  <thead>\n",
       "    <tr style=\"text-align: right;\">\n",
       "      <th></th>\n",
       "      <th>gr_Age</th>\n",
       "      <th>gr_Fare</th>\n",
       "      <th>gr_SibSp</th>\n",
       "      <th>gr_Parch</th>\n",
       "      <th>le_Pclass</th>\n",
       "      <th>le_Sex</th>\n",
       "      <th>le_Embarked</th>\n",
       "    </tr>\n",
       "    <tr>\n",
       "      <th>PassengerId</th>\n",
       "      <th></th>\n",
       "      <th></th>\n",
       "      <th></th>\n",
       "      <th></th>\n",
       "      <th></th>\n",
       "      <th></th>\n",
       "      <th></th>\n",
       "    </tr>\n",
       "  </thead>\n",
       "  <tbody>\n",
       "    <tr>\n",
       "      <th>1</th>\n",
       "      <td>-0.488867</td>\n",
       "      <td>-0.968076</td>\n",
       "      <td>0.600843</td>\n",
       "      <td>-0.214091</td>\n",
       "      <td>2</td>\n",
       "      <td>1</td>\n",
       "      <td>2</td>\n",
       "    </tr>\n",
       "    <tr>\n",
       "      <th>2</th>\n",
       "      <td>0.584412</td>\n",
       "      <td>0.853865</td>\n",
       "      <td>0.600843</td>\n",
       "      <td>-0.214091</td>\n",
       "      <td>0</td>\n",
       "      <td>0</td>\n",
       "      <td>0</td>\n",
       "    </tr>\n",
       "    <tr>\n",
       "      <th>3</th>\n",
       "      <td>-0.275357</td>\n",
       "      <td>-0.454031</td>\n",
       "      <td>-0.290348</td>\n",
       "      <td>-0.214091</td>\n",
       "      <td>2</td>\n",
       "      <td>0</td>\n",
       "      <td>2</td>\n",
       "    </tr>\n",
       "    <tr>\n",
       "      <th>4</th>\n",
       "      <td>0.470091</td>\n",
       "      <td>0.703973</td>\n",
       "      <td>0.600843</td>\n",
       "      <td>-0.214091</td>\n",
       "      <td>0</td>\n",
       "      <td>0</td>\n",
       "      <td>2</td>\n",
       "    </tr>\n",
       "    <tr>\n",
       "      <th>5</th>\n",
       "      <td>0.470091</td>\n",
       "      <td>-0.379298</td>\n",
       "      <td>-0.290348</td>\n",
       "      <td>-0.214091</td>\n",
       "      <td>2</td>\n",
       "      <td>1</td>\n",
       "      <td>2</td>\n",
       "    </tr>\n",
       "  </tbody>\n",
       "</table>\n",
       "</div>"
      ],
      "text/plain": [
       "               gr_Age   gr_Fare  gr_SibSp  gr_Parch  le_Pclass  le_Sex  \\\n",
       "PassengerId                                                              \n",
       "1           -0.488867 -0.968076  0.600843 -0.214091          2       1   \n",
       "2            0.584412  0.853865  0.600843 -0.214091          0       0   \n",
       "3           -0.275357 -0.454031 -0.290348 -0.214091          2       0   \n",
       "4            0.470091  0.703973  0.600843 -0.214091          0       0   \n",
       "5            0.470091 -0.379298 -0.290348 -0.214091          2       1   \n",
       "\n",
       "             le_Embarked  \n",
       "PassengerId               \n",
       "1                      2  \n",
       "2                      0  \n",
       "3                      2  \n",
       "4                      2  \n",
       "5                      2  "
      ]
     },
     "execution_count": 4,
     "metadata": {},
     "output_type": "execute_result"
    }
   ],
   "source": [
    "from robusta.preprocessing.category import *\n",
    "from robusta.preprocessing.numeric import *\n",
    "from robusta.preprocessing.base import *\n",
    "from robusta.pipeline import *\n",
    "\n",
    "nums = ['Age', 'Fare', 'SibSp', 'Parch']\n",
    "cats = ['Pclass', 'Sex', 'Embarked']\n",
    "\n",
    "data_prep = FeatureUnion([\n",
    "        (\"numeric\", make_pipeline(\n",
    "            ColumnSelector(nums),\n",
    "            Imputer(strategy=\"median\"),\n",
    "            GaussRank(),\n",
    "            ColumnRenamer(prefix='gr_'),\n",
    "        )),\n",
    "        (\"category\", make_pipeline(\n",
    "            ColumnSelector(cats),\n",
    "            Imputer(strategy=\"most_frequent\"),\n",
    "            LabelEncoder(),\n",
    "            ColumnRenamer(prefix='le_'),\n",
    "        )),\n",
    "])\n",
    "\n",
    "X_train = data_prep.fit_transform(df_train)\n",
    "X_test = data_prep.transform(df_test)\n",
    "\n",
    "X_train.head()"
   ]
  },
  {
   "cell_type": "markdown",
   "metadata": {
    "heading_collapsed": true
   },
   "source": [
    "## Fold Preparation"
   ]
  },
  {
   "cell_type": "code",
   "execution_count": 5,
   "metadata": {
    "hidden": true
   },
   "outputs": [
    {
     "data": {
      "text/html": [
       "<div>\n",
       "<style scoped>\n",
       "    .dataframe tbody tr th:only-of-type {\n",
       "        vertical-align: middle;\n",
       "    }\n",
       "\n",
       "    .dataframe tbody tr th {\n",
       "        vertical-align: top;\n",
       "    }\n",
       "\n",
       "    .dataframe thead th {\n",
       "        text-align: right;\n",
       "    }\n",
       "</style>\n",
       "<table border=\"1\" class=\"dataframe\">\n",
       "  <thead>\n",
       "    <tr style=\"text-align: right;\">\n",
       "      <th></th>\n",
       "      <th>gr_Age</th>\n",
       "      <th>gr_Fare</th>\n",
       "      <th>gr_SibSp</th>\n",
       "      <th>gr_Parch</th>\n",
       "      <th>le_Pclass</th>\n",
       "      <th>le_Sex</th>\n",
       "      <th>le_Embarked</th>\n",
       "    </tr>\n",
       "  </thead>\n",
       "  <tbody>\n",
       "    <tr>\n",
       "      <th>928</th>\n",
       "      <td>0.491782</td>\n",
       "      <td>1.040380</td>\n",
       "      <td>0.600843</td>\n",
       "      <td>-0.214091</td>\n",
       "      <td>0</td>\n",
       "      <td>0</td>\n",
       "      <td>2</td>\n",
       "    </tr>\n",
       "    <tr>\n",
       "      <th>873</th>\n",
       "      <td>0.888832</td>\n",
       "      <td>-0.271711</td>\n",
       "      <td>-0.290348</td>\n",
       "      <td>-0.214091</td>\n",
       "      <td>2</td>\n",
       "      <td>1</td>\n",
       "      <td>2</td>\n",
       "    </tr>\n",
       "    <tr>\n",
       "      <th>293</th>\n",
       "      <td>-0.381808</td>\n",
       "      <td>-0.274934</td>\n",
       "      <td>-0.290348</td>\n",
       "      <td>-0.214091</td>\n",
       "      <td>2</td>\n",
       "      <td>0</td>\n",
       "      <td>2</td>\n",
       "    </tr>\n",
       "    <tr>\n",
       "      <th>760</th>\n",
       "      <td>-0.013926</td>\n",
       "      <td>0.016949</td>\n",
       "      <td>-0.290348</td>\n",
       "      <td>-0.214091</td>\n",
       "      <td>2</td>\n",
       "      <td>1</td>\n",
       "      <td>2</td>\n",
       "    </tr>\n",
       "    <tr>\n",
       "      <th>126</th>\n",
       "      <td>-0.013926</td>\n",
       "      <td>-0.770943</td>\n",
       "      <td>-0.290348</td>\n",
       "      <td>-0.214091</td>\n",
       "      <td>2</td>\n",
       "      <td>1</td>\n",
       "      <td>1</td>\n",
       "    </tr>\n",
       "  </tbody>\n",
       "</table>\n",
       "</div>"
      ],
      "text/plain": [
       "       gr_Age   gr_Fare  gr_SibSp  gr_Parch  le_Pclass  le_Sex  le_Embarked\n",
       "928  0.491782  1.040380  0.600843 -0.214091          0       0            2\n",
       "873  0.888832 -0.271711 -0.290348 -0.214091          2       1            2\n",
       "293 -0.381808 -0.274934 -0.290348 -0.214091          2       0            2\n",
       "760 -0.013926  0.016949 -0.290348 -0.214091          2       1            2\n",
       "126 -0.013926 -0.770943 -0.290348 -0.214091          2       1            1"
      ]
     },
     "execution_count": 5,
     "metadata": {},
     "output_type": "execute_result"
    }
   ],
   "source": [
    "from sklearn.model_selection import KFold\n",
    "from robusta.resampler import *\n",
    "\n",
    "encoder = FeatureUnion([\n",
    "    ('category', make_pipeline(\n",
    "        TypeSelector(['category', 'object']), \n",
    "        TargetEncoderCV(cv=4).set_params(encoder__smoothing=200.0),\n",
    "    )),\n",
    "    ('numeric', make_pipeline(\n",
    "        TypeSelector(np.number),\n",
    "        Identity(),\n",
    "    )),\n",
    "])\n",
    "\n",
    "resampler = SMOTE(random_state=50, k_neighbors=30)\n",
    "\n",
    "fold_pipe = make_pipeline(resampler, encoder)\n",
    "\n",
    "F_train = fold_pipe.fit_transform(X_train, y_train)\n",
    "\n",
    "F_train.sample(5, random_state=555)"
   ]
  },
  {
   "cell_type": "markdown",
   "metadata": {
    "heading_collapsed": true
   },
   "source": [
    "## Model"
   ]
  },
  {
   "cell_type": "code",
   "execution_count": 6,
   "metadata": {
    "hidden": true
   },
   "outputs": [
    {
     "name": "stdout",
     "output_type": "stream",
     "text": [
      "CPU times: user 443 ms, sys: 21.4 ms, total: 465 ms\n",
      "Wall time: 76.5 ms\n"
     ]
    },
    {
     "name": "stderr",
     "output_type": "stream",
     "text": [
      "/Users/pechyonkinb/anaconda/lib/python3.6/site-packages/lightgbm/__init__.py:46: UserWarning: Starting from version 2.2.1, the library file in distribution wheels for macOS is built by the Apple Clang (Xcode_8.3.3) compiler.\n",
      "This means that in case of installing LightGBM from PyPI via the ``pip install lightgbm`` command, you don't need to install the gcc compiler anymore.\n",
      "Instead of that, you need to install the OpenMP library, which is required for running LightGBM on the system with the Apple Clang compiler.\n",
      "You can install the OpenMP library by the following command: ``brew install libomp``.\n",
      "  \"You can install the OpenMP library by the following command: ``brew install libomp``.\", UserWarning)\n"
     ]
    }
   ],
   "source": [
    "%%time\n",
    "from lightgbm import LGBMClassifier\n",
    "\n",
    "model = LGBMClassifier()\n",
    "model.fit(X_train, y_train)"
   ]
  },
  {
   "cell_type": "code",
   "execution_count": 7,
   "metadata": {
    "hidden": true
   },
   "outputs": [
    {
     "name": "stdout",
     "output_type": "stream",
     "text": [
      "0.8317 ± 0.0303 [model]\n",
      "0.8317 ± 0.0303 [resampler + model]\n",
      "0.8194 ± 0.0261 [encoder + model]\n"
     ]
    }
   ],
   "source": [
    "from sklearn.model_selection import cross_val_score\n",
    "\n",
    "cv = 5\n",
    "scoring = 'accuracy'\n",
    "\n",
    "estimator = make_pipeline(model)\n",
    "scores = cross_val_score(estimator, X_train, y_train, cv=cv, scoring=scoring)\n",
    "print('{:.4f} ± {:.4f} [model]'.format(np.mean(scores), np.std(scores)))\n",
    "\n",
    "estimator = make_pipeline(encoder, model)\n",
    "scores = cross_val_score(estimator, X_train, y_train, cv=cv, scoring=scoring)\n",
    "print('{:.4f} ± {:.4f} [resampler + model]'.format(np.mean(scores), np.std(scores)))\n",
    "\n",
    "estimator = make_pipeline(resampler, model)\n",
    "scores = cross_val_score(estimator, X_train, y_train, cv=cv, scoring=scoring)\n",
    "print('{:.4f} ± {:.4f} [encoder + model]'.format(np.mean(scores), np.std(scores)))\n",
    "\n",
    "# 0.8216 ± 0.0370 (model)\n",
    "# 0.8261 ± 0.0336 (resampler + model)\n",
    "# 0.8249 ± 0.0320 (encoder + model)"
   ]
  },
  {
   "cell_type": "code",
   "execution_count": 8,
   "metadata": {
    "hidden": true
   },
   "outputs": [],
   "source": [
    "estimator = make_pipeline(model)"
   ]
  },
  {
   "cell_type": "markdown",
   "metadata": {},
   "source": [
    "## Submit (Out-of-Fold & Test Predictions)"
   ]
  },
  {
   "cell_type": "code",
   "execution_count": 9,
   "metadata": {},
   "outputs": [
    {
     "name": "stdout",
     "output_type": "stream",
     "text": [
      "CPU times: user 2.75 s, sys: 55.9 ms, total: 2.81 s\n",
      "Wall time: 363 ms\n"
     ]
    }
   ],
   "source": [
    "%%time\n",
    "from robusta.crossval import cross_val, cross_val_stack\n",
    "\n",
    "y_oof, y_sub = cross_val_stack(estimator, cv, X_train, y_train, None, X_test)"
   ]
  },
  {
   "cell_type": "code",
   "execution_count": 21,
   "metadata": {},
   "outputs": [
    {
     "name": "stdout",
     "output_type": "stream",
     "text": [
      "CPU times: user 2.32 s, sys: 60.9 ms, total: 2.38 s\n",
      "Wall time: 316 ms\n"
     ]
    }
   ],
   "source": [
    "%%time\n",
    "results = cross_val(model, cv, X_train, y_train, None, None,\n",
    "                    return_estimator=False, return_pred=True, return_score=True, \n",
    "                    return_importance=False)"
   ]
  },
  {
   "cell_type": "code",
   "execution_count": 22,
   "metadata": {},
   "outputs": [
    {
     "data": {
      "text/plain": [
       "{'fit_time': [0.05587601661682129,\n",
       "  0.04539179801940918,\n",
       "  0.04522705078125,\n",
       "  0.04939889907836914,\n",
       "  0.04730582237243652],\n",
       " 'oof_pred': PassengerId\n",
       " 1      0\n",
       " 2      1\n",
       " 3      0\n",
       " 4      1\n",
       " 5      0\n",
       " 6      0\n",
       " 7      0\n",
       " 8      0\n",
       " 9      0\n",
       " 10     1\n",
       " 11     1\n",
       " 12     1\n",
       " 13     0\n",
       " 14     0\n",
       " 15     1\n",
       " 16     1\n",
       " 17     0\n",
       " 18     0\n",
       " 19     1\n",
       " 20     1\n",
       " 21     0\n",
       " 22     0\n",
       " 23     1\n",
       " 24     0\n",
       " 25     0\n",
       " 26     0\n",
       " 27     0\n",
       " 28     0\n",
       " 29     1\n",
       " 30     0\n",
       "       ..\n",
       " 862    0\n",
       " 863    1\n",
       " 864    0\n",
       " 865    0\n",
       " 866    1\n",
       " 867    1\n",
       " 868    0\n",
       " 869    0\n",
       " 870    1\n",
       " 871    0\n",
       " 872    1\n",
       " 873    0\n",
       " 874    0\n",
       " 875    1\n",
       " 876    1\n",
       " 877    0\n",
       " 878    0\n",
       " 879    0\n",
       " 880    1\n",
       " 881    1\n",
       " 882    0\n",
       " 883    0\n",
       " 884    0\n",
       " 885    0\n",
       " 886    0\n",
       " 887    0\n",
       " 888    1\n",
       " 889    0\n",
       " 890    1\n",
       " 891    0\n",
       " Name: Survived, Length: 891, dtype: int64,\n",
       " 'pred_time': [0.005441904067993164,\n",
       "  0.005268096923828125,\n",
       "  0.005381107330322266,\n",
       "  0.005549192428588867,\n",
       "  0.006171226501464844],\n",
       " 'score': [{'score': 0.7988826815642458},\n",
       "  {'score': 0.8212290502793296},\n",
       "  {'score': 0.8651685393258427},\n",
       "  {'score': 0.8033707865168539},\n",
       "  {'score': 0.8700564971751412}],\n",
       " 'score_time': [0.005357027053833008,\n",
       "  0.005452156066894531,\n",
       "  0.005445003509521484,\n",
       "  0.005728006362915039,\n",
       "  0.005402803421020508],\n",
       " 'concat_time': 0.008200883865356445}"
      ]
     },
     "execution_count": 22,
     "metadata": {},
     "output_type": "execute_result"
    }
   ],
   "source": [
    "results"
   ]
  },
  {
   "cell_type": "code",
   "execution_count": 14,
   "metadata": {},
   "outputs": [],
   "source": [
    "import os\n",
    "\n",
    "path = os.path.join(os.getcwd(), 'pred')\n",
    "if not os.path.exists(path):\n",
    "    os.mkdir(path)\n",
    "\n",
    "sub_path = os.path.join(path, '0 sub baseline.csv')\n",
    "oof_path = os.path.join(path, '0 oof baseline.csv')\n",
    "\n",
    "y_sub.to_csv(sub_path, header=True)\n",
    "y_oof.to_csv(oof_path, header=True)"
   ]
  },
  {
   "cell_type": "markdown",
   "metadata": {},
   "source": [
    "### Score:\n",
    "### `[CV] 0.8249 ± 0.0314`\n",
    "### `[LB] 0.7656`"
   ]
  }
 ],
 "metadata": {
  "kernelspec": {
   "display_name": "Python 3",
   "language": "python",
   "name": "python3"
  },
  "language_info": {
   "codemirror_mode": {
    "name": "ipython",
    "version": 3
   },
   "file_extension": ".py",
   "mimetype": "text/x-python",
   "name": "python",
   "nbconvert_exporter": "python",
   "pygments_lexer": "ipython3",
   "version": "3.6.8"
  },
  "toc": {
   "colors": {
    "hover_highlight": "#DAA520",
    "navigate_num": "#000000",
    "navigate_text": "#333333",
    "running_highlight": "#FF0000",
    "selected_highlight": "#FFD700",
    "sidebar_border": "#EEEEEE",
    "wrapper_background": "#FFFFFF"
   },
   "moveMenuLeft": false,
   "nav_menu": {
    "height": "32px",
    "width": "250px"
   },
   "navigate_menu": true,
   "number_sections": true,
   "sideBar": true,
   "threshold": 4,
   "toc_cell": true,
   "toc_section_display": "block",
   "toc_window_display": true,
   "widenNotebook": false
  }
 },
 "nbformat": 4,
 "nbformat_minor": 2
}
