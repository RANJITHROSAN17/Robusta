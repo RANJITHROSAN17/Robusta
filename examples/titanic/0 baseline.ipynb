{
 "cells": [
  {
   "cell_type": "markdown",
   "metadata": {
    "heading_collapsed": true
   },
   "source": [
    "## Imports"
   ]
  },
  {
   "cell_type": "code",
   "execution_count": 1,
   "metadata": {
    "hidden": true
   },
   "outputs": [],
   "source": [
    "# Basic imports\n",
    "import pandas as pd\n",
    "import numpy as np\n",
    "\n",
    "# Warnings\n",
    "import warnings \n",
    "warnings.simplefilter(\"ignore\")"
   ]
  },
  {
   "cell_type": "code",
   "execution_count": 2,
   "metadata": {
    "hidden": true
   },
   "outputs": [],
   "source": [
    "# Plot\n",
    "from IPython import display\n",
    "import seaborn as sns\n",
    "\n",
    "import matplotlib\n",
    "import matplotlib.pylab as plt\n",
    "from jupyterthemes import jtplot\n",
    "\n",
    "jtplot.style('gruvboxd')\n",
    "matplotlib.use('nbagg')"
   ]
  },
  {
   "cell_type": "markdown",
   "metadata": {
    "heading_collapsed": true
   },
   "source": [
    "## Data Reading"
   ]
  },
  {
   "cell_type": "code",
   "execution_count": 3,
   "metadata": {
    "hidden": true
   },
   "outputs": [
    {
     "data": {
      "text/html": [
       "<div>\n",
       "<style scoped>\n",
       "    .dataframe tbody tr th:only-of-type {\n",
       "        vertical-align: middle;\n",
       "    }\n",
       "\n",
       "    .dataframe tbody tr th {\n",
       "        vertical-align: top;\n",
       "    }\n",
       "\n",
       "    .dataframe thead th {\n",
       "        text-align: right;\n",
       "    }\n",
       "</style>\n",
       "<table border=\"1\" class=\"dataframe\">\n",
       "  <thead>\n",
       "    <tr style=\"text-align: right;\">\n",
       "      <th></th>\n",
       "      <th>Pclass</th>\n",
       "      <th>Name</th>\n",
       "      <th>Sex</th>\n",
       "      <th>Age</th>\n",
       "      <th>SibSp</th>\n",
       "      <th>Parch</th>\n",
       "      <th>Ticket</th>\n",
       "      <th>Fare</th>\n",
       "      <th>Cabin</th>\n",
       "      <th>Embarked</th>\n",
       "    </tr>\n",
       "    <tr>\n",
       "      <th>PassengerId</th>\n",
       "      <th></th>\n",
       "      <th></th>\n",
       "      <th></th>\n",
       "      <th></th>\n",
       "      <th></th>\n",
       "      <th></th>\n",
       "      <th></th>\n",
       "      <th></th>\n",
       "      <th></th>\n",
       "      <th></th>\n",
       "    </tr>\n",
       "  </thead>\n",
       "  <tbody>\n",
       "    <tr>\n",
       "      <th>1</th>\n",
       "      <td>3</td>\n",
       "      <td>Braund, Mr. Owen Harris</td>\n",
       "      <td>male</td>\n",
       "      <td>22.0</td>\n",
       "      <td>1</td>\n",
       "      <td>0</td>\n",
       "      <td>A/5 21171</td>\n",
       "      <td>7.2500</td>\n",
       "      <td>NaN</td>\n",
       "      <td>S</td>\n",
       "    </tr>\n",
       "    <tr>\n",
       "      <th>2</th>\n",
       "      <td>1</td>\n",
       "      <td>Cumings, Mrs. John Bradley (Florence Briggs Th...</td>\n",
       "      <td>female</td>\n",
       "      <td>38.0</td>\n",
       "      <td>1</td>\n",
       "      <td>0</td>\n",
       "      <td>PC 17599</td>\n",
       "      <td>71.2833</td>\n",
       "      <td>C85</td>\n",
       "      <td>C</td>\n",
       "    </tr>\n",
       "    <tr>\n",
       "      <th>3</th>\n",
       "      <td>3</td>\n",
       "      <td>Heikkinen, Miss. Laina</td>\n",
       "      <td>female</td>\n",
       "      <td>26.0</td>\n",
       "      <td>0</td>\n",
       "      <td>0</td>\n",
       "      <td>STON/O2. 3101282</td>\n",
       "      <td>7.9250</td>\n",
       "      <td>NaN</td>\n",
       "      <td>S</td>\n",
       "    </tr>\n",
       "    <tr>\n",
       "      <th>4</th>\n",
       "      <td>1</td>\n",
       "      <td>Futrelle, Mrs. Jacques Heath (Lily May Peel)</td>\n",
       "      <td>female</td>\n",
       "      <td>35.0</td>\n",
       "      <td>1</td>\n",
       "      <td>0</td>\n",
       "      <td>113803</td>\n",
       "      <td>53.1000</td>\n",
       "      <td>C123</td>\n",
       "      <td>S</td>\n",
       "    </tr>\n",
       "    <tr>\n",
       "      <th>5</th>\n",
       "      <td>3</td>\n",
       "      <td>Allen, Mr. William Henry</td>\n",
       "      <td>male</td>\n",
       "      <td>35.0</td>\n",
       "      <td>0</td>\n",
       "      <td>0</td>\n",
       "      <td>373450</td>\n",
       "      <td>8.0500</td>\n",
       "      <td>NaN</td>\n",
       "      <td>S</td>\n",
       "    </tr>\n",
       "  </tbody>\n",
       "</table>\n",
       "</div>"
      ],
      "text/plain": [
       "             Pclass                                               Name  \\\n",
       "PassengerId                                                              \n",
       "1                 3                            Braund, Mr. Owen Harris   \n",
       "2                 1  Cumings, Mrs. John Bradley (Florence Briggs Th...   \n",
       "3                 3                             Heikkinen, Miss. Laina   \n",
       "4                 1       Futrelle, Mrs. Jacques Heath (Lily May Peel)   \n",
       "5                 3                           Allen, Mr. William Henry   \n",
       "\n",
       "                Sex   Age  SibSp  Parch            Ticket     Fare Cabin  \\\n",
       "PassengerId                                                                \n",
       "1              male  22.0      1      0         A/5 21171   7.2500   NaN   \n",
       "2            female  38.0      1      0          PC 17599  71.2833   C85   \n",
       "3            female  26.0      0      0  STON/O2. 3101282   7.9250   NaN   \n",
       "4            female  35.0      1      0            113803  53.1000  C123   \n",
       "5              male  35.0      0      0            373450   8.0500   NaN   \n",
       "\n",
       "            Embarked  \n",
       "PassengerId           \n",
       "1                  S  \n",
       "2                  C  \n",
       "3                  S  \n",
       "4                  S  \n",
       "5                  S  "
      ]
     },
     "execution_count": 3,
     "metadata": {},
     "output_type": "execute_result"
    }
   ],
   "source": [
    "from catboost.datasets import titanic\n",
    "\n",
    "# Data Reading\n",
    "df_train, df_test = titanic()\n",
    "df_train.set_index('PassengerId', inplace=True)\n",
    "df_test.set_index('PassengerId', inplace=True)\n",
    "\n",
    "# Split X_train, y_train\n",
    "target = 'Survived'\n",
    "features = df_test.columns\n",
    "\n",
    "y_train = df_train[target]\n",
    "df_train = df_train[features]\n",
    "\n",
    "df_train.head()"
   ]
  },
  {
   "cell_type": "markdown",
   "metadata": {
    "heading_collapsed": true
   },
   "source": [
    "## Preprocessing"
   ]
  },
  {
   "cell_type": "code",
   "execution_count": 4,
   "metadata": {
    "hidden": true
   },
   "outputs": [
    {
     "data": {
      "text/html": [
       "<div>\n",
       "<style scoped>\n",
       "    .dataframe tbody tr th:only-of-type {\n",
       "        vertical-align: middle;\n",
       "    }\n",
       "\n",
       "    .dataframe tbody tr th {\n",
       "        vertical-align: top;\n",
       "    }\n",
       "\n",
       "    .dataframe thead th {\n",
       "        text-align: right;\n",
       "    }\n",
       "</style>\n",
       "<table border=\"1\" class=\"dataframe\">\n",
       "  <thead>\n",
       "    <tr style=\"text-align: right;\">\n",
       "      <th></th>\n",
       "      <th>gr_Age</th>\n",
       "      <th>gr_Fare</th>\n",
       "      <th>gr_SibSp</th>\n",
       "      <th>gr_Parch</th>\n",
       "      <th>le_Pclass</th>\n",
       "      <th>le_Sex</th>\n",
       "      <th>le_Embarked</th>\n",
       "    </tr>\n",
       "    <tr>\n",
       "      <th>PassengerId</th>\n",
       "      <th></th>\n",
       "      <th></th>\n",
       "      <th></th>\n",
       "      <th></th>\n",
       "      <th></th>\n",
       "      <th></th>\n",
       "      <th></th>\n",
       "    </tr>\n",
       "  </thead>\n",
       "  <tbody>\n",
       "    <tr>\n",
       "      <th>1</th>\n",
       "      <td>-0.488867</td>\n",
       "      <td>-0.968076</td>\n",
       "      <td>0.600843</td>\n",
       "      <td>-0.214091</td>\n",
       "      <td>2</td>\n",
       "      <td>1</td>\n",
       "      <td>2</td>\n",
       "    </tr>\n",
       "    <tr>\n",
       "      <th>2</th>\n",
       "      <td>0.584412</td>\n",
       "      <td>0.853865</td>\n",
       "      <td>0.600843</td>\n",
       "      <td>-0.214091</td>\n",
       "      <td>0</td>\n",
       "      <td>0</td>\n",
       "      <td>0</td>\n",
       "    </tr>\n",
       "    <tr>\n",
       "      <th>3</th>\n",
       "      <td>-0.275357</td>\n",
       "      <td>-0.454031</td>\n",
       "      <td>-0.290348</td>\n",
       "      <td>-0.214091</td>\n",
       "      <td>2</td>\n",
       "      <td>0</td>\n",
       "      <td>2</td>\n",
       "    </tr>\n",
       "    <tr>\n",
       "      <th>4</th>\n",
       "      <td>0.470091</td>\n",
       "      <td>0.703973</td>\n",
       "      <td>0.600843</td>\n",
       "      <td>-0.214091</td>\n",
       "      <td>0</td>\n",
       "      <td>0</td>\n",
       "      <td>2</td>\n",
       "    </tr>\n",
       "    <tr>\n",
       "      <th>5</th>\n",
       "      <td>0.470091</td>\n",
       "      <td>-0.379298</td>\n",
       "      <td>-0.290348</td>\n",
       "      <td>-0.214091</td>\n",
       "      <td>2</td>\n",
       "      <td>1</td>\n",
       "      <td>2</td>\n",
       "    </tr>\n",
       "  </tbody>\n",
       "</table>\n",
       "</div>"
      ],
      "text/plain": [
       "               gr_Age   gr_Fare  gr_SibSp  gr_Parch le_Pclass le_Sex  \\\n",
       "PassengerId                                                            \n",
       "1           -0.488867 -0.968076  0.600843 -0.214091         2      1   \n",
       "2            0.584412  0.853865  0.600843 -0.214091         0      0   \n",
       "3           -0.275357 -0.454031 -0.290348 -0.214091         2      0   \n",
       "4            0.470091  0.703973  0.600843 -0.214091         0      0   \n",
       "5            0.470091 -0.379298 -0.290348 -0.214091         2      1   \n",
       "\n",
       "            le_Embarked  \n",
       "PassengerId              \n",
       "1                     2  \n",
       "2                     0  \n",
       "3                     2  \n",
       "4                     2  \n",
       "5                     2  "
      ]
     },
     "execution_count": 4,
     "metadata": {},
     "output_type": "execute_result"
    }
   ],
   "source": [
    "from robusta.preprocessing.category import *\n",
    "from robusta.preprocessing.numeric import *\n",
    "from robusta.preprocessing.base import *\n",
    "from robusta.pipeline import *\n",
    "\n",
    "nums = ['Age', 'Fare', 'SibSp', 'Parch']\n",
    "cats = ['Pclass', 'Sex', 'Embarked']\n",
    "\n",
    "data_prep = FeatureUnion([\n",
    "        (\"numeric\", make_pipeline(\n",
    "            ColumnSelector(nums),\n",
    "            Imputer(strategy=\"median\"),\n",
    "            GaussRank(),\n",
    "            ColumnRenamer(prefix='gr_'),\n",
    "        )),\n",
    "        (\"category\", make_pipeline(\n",
    "            ColumnSelector(cats),\n",
    "            Imputer(strategy=\"most_frequent\"),\n",
    "            LabelEncoder(dtype='category'),\n",
    "            ColumnRenamer(prefix='le_'),\n",
    "        )),\n",
    "])\n",
    "\n",
    "X_train = data_prep.fit_transform(df_train)\n",
    "X_test = data_prep.transform(df_test)\n",
    "\n",
    "X_train.head()"
   ]
  },
  {
   "cell_type": "markdown",
   "metadata": {},
   "source": [
    "## Fold Preparation"
   ]
  },
  {
   "cell_type": "code",
   "execution_count": 411,
   "metadata": {},
   "outputs": [
    {
     "data": {
      "text/html": [
       "<div>\n",
       "<style scoped>\n",
       "    .dataframe tbody tr th:only-of-type {\n",
       "        vertical-align: middle;\n",
       "    }\n",
       "\n",
       "    .dataframe tbody tr th {\n",
       "        vertical-align: top;\n",
       "    }\n",
       "\n",
       "    .dataframe thead th {\n",
       "        text-align: right;\n",
       "    }\n",
       "</style>\n",
       "<table border=\"1\" class=\"dataframe\">\n",
       "  <thead>\n",
       "    <tr style=\"text-align: right;\">\n",
       "      <th></th>\n",
       "      <th>le_Embarked</th>\n",
       "      <th>le_Pclass</th>\n",
       "      <th>le_Sex</th>\n",
       "      <th>gr_Age</th>\n",
       "      <th>gr_Fare</th>\n",
       "      <th>gr_SibSp</th>\n",
       "      <th>gr_Parch</th>\n",
       "    </tr>\n",
       "  </thead>\n",
       "  <tbody>\n",
       "    <tr>\n",
       "      <th>928</th>\n",
       "      <td>0.500000</td>\n",
       "      <td>0.365267</td>\n",
       "      <td>0.500000</td>\n",
       "      <td>0.035459</td>\n",
       "      <td>-0.696240</td>\n",
       "      <td>-0.290348</td>\n",
       "      <td>-0.214091</td>\n",
       "    </tr>\n",
       "    <tr>\n",
       "      <th>873</th>\n",
       "      <td>0.442888</td>\n",
       "      <td>0.365267</td>\n",
       "      <td>0.258366</td>\n",
       "      <td>0.888832</td>\n",
       "      <td>-0.271711</td>\n",
       "      <td>-0.290348</td>\n",
       "      <td>-0.214091</td>\n",
       "    </tr>\n",
       "    <tr>\n",
       "      <th>293</th>\n",
       "      <td>0.442888</td>\n",
       "      <td>0.365267</td>\n",
       "      <td>0.740852</td>\n",
       "      <td>-0.381808</td>\n",
       "      <td>-0.274934</td>\n",
       "      <td>-0.290348</td>\n",
       "      <td>-0.214091</td>\n",
       "    </tr>\n",
       "    <tr>\n",
       "      <th>760</th>\n",
       "      <td>0.442888</td>\n",
       "      <td>0.365267</td>\n",
       "      <td>0.258366</td>\n",
       "      <td>-0.013926</td>\n",
       "      <td>0.016949</td>\n",
       "      <td>-0.290348</td>\n",
       "      <td>-0.214091</td>\n",
       "    </tr>\n",
       "    <tr>\n",
       "      <th>126</th>\n",
       "      <td>0.463396</td>\n",
       "      <td>0.365267</td>\n",
       "      <td>0.258366</td>\n",
       "      <td>-0.013926</td>\n",
       "      <td>-0.770943</td>\n",
       "      <td>-0.290348</td>\n",
       "      <td>-0.214091</td>\n",
       "    </tr>\n",
       "  </tbody>\n",
       "</table>\n",
       "</div>"
      ],
      "text/plain": [
       "     le_Embarked  le_Pclass    le_Sex    gr_Age   gr_Fare  gr_SibSp  gr_Parch\n",
       "928     0.500000   0.365267  0.500000  0.035459 -0.696240 -0.290348 -0.214091\n",
       "873     0.442888   0.365267  0.258366  0.888832 -0.271711 -0.290348 -0.214091\n",
       "293     0.442888   0.365267  0.740852 -0.381808 -0.274934 -0.290348 -0.214091\n",
       "760     0.442888   0.365267  0.258366 -0.013926  0.016949 -0.290348 -0.214091\n",
       "126     0.463396   0.365267  0.258366 -0.013926 -0.770943 -0.290348 -0.214091"
      ]
     },
     "execution_count": 411,
     "metadata": {},
     "output_type": "execute_result"
    }
   ],
   "source": [
    "from sklearn.model_selection import KFold\n",
    "from robusta.resampler import *\n",
    "\n",
    "encoder = FeatureUnion([\n",
    "    ('category', make_pipeline(\n",
    "        TypeSelector(['category', 'object']), \n",
    "        TargetEncoderCV(cv=4).set_params(encoder__smoothing=200.0),\n",
    "    )),\n",
    "    ('numeric', make_pipeline(\n",
    "        TypeSelector(np.number),\n",
    "        Identity(),\n",
    "    )),\n",
    "])\n",
    "\n",
    "resampler = SMOTE(random_state=100, k_neighbors=200)\n",
    "\n",
    "fold_pipe = make_pipeline(resampler, encoder)\n",
    "\n",
    "F_train = fold_pipe.fit_transform(X_train, y_train)\n",
    "\n",
    "F_train.sample(5, random_state=555)"
   ]
  },
  {
   "cell_type": "markdown",
   "metadata": {},
   "source": [
    "## Model"
   ]
  },
  {
   "cell_type": "code",
   "execution_count": 425,
   "metadata": {},
   "outputs": [
    {
     "name": "stdout",
     "output_type": "stream",
     "text": [
      "CPU times: user 2.03 s, sys: 423 ms, total: 2.45 s\n",
      "Wall time: 860 ms\n"
     ]
    }
   ],
   "source": [
    "%%time\n",
    "from lightgbm import LGBMClassifier\n",
    "\n",
    "model = LGBMClassifier()\n",
    "\n",
    "estimator = make_pipeline(encoder, resampler, estimator)\n",
    "estimator.fit(X_train, y_train)\n",
    "\n",
    "y_test = estimator.predict(X_test)"
   ]
  },
  {
   "cell_type": "code",
   "execution_count": 424,
   "metadata": {},
   "outputs": [
    {
     "name": "stdout",
     "output_type": "stream",
     "text": [
      "0.8216 ± 0.0370 [estimator]\n",
      "0.8249 ± 0.0314 [encoder + estimator]\n",
      "0.8193 ± 0.0276 [resampler + estimator]\n",
      "0.8216 ± 0.0281 [resampler + encoder + estimator]\n",
      "0.7890 ± 0.0271 [encoder + resampler + estimator]\n"
     ]
    }
   ],
   "source": [
    "from sklearn.model_selection import cross_val_score\n",
    "from sklearn.metrics import *\n",
    "\n",
    "cv = KFold(5)\n",
    "scoring = 'accuracy'\n",
    "\n",
    "estimator = make_pipeline(model)\n",
    "scores = cross_val_score(estimator, X_train, y_train, cv=cv, scoring=scoring)\n",
    "print('{:.4f} ± {:.4f} [model]'.format(np.mean(scores), np.std(scores)))\n",
    "\n",
    "estimator = make_pipeline(resampler, model)\n",
    "scores = cross_val_score(estimator, X_train, y_train, cv=cv, scoring=scoring)\n",
    "print('{:.4f} ± {:.4f} [encoder + model]'.format(np.mean(scores), np.std(scores)))\n",
    "\n",
    "estimator = make_pipeline(encoder, model)\n",
    "scores = cross_val_score(estimator, X_train, y_train, cv=cv, scoring=scoring)\n",
    "print('{:.4f} ± {:.4f} [resampler + model]'.format(np.mean(scores), np.std(scores)))\n",
    "\n",
    "estimator = make_pipeline(resampler, encoder, model)\n",
    "scores = cross_val_score(estimator, X_train, y_train, cv=cv, scoring=scoring)\n",
    "print('{:.4f} ± {:.4f} [resampler + encoder + model]'.format(np.mean(scores), np.std(scores)))\n",
    "\n",
    "estimator = make_pipeline(encoder, resampler, model)\n",
    "scores = cross_val_score(estimator, X_train, y_train, cv=cv, scoring=scoring)\n",
    "print('{:.4f} ± {:.4f} [encoder + resampler + model]'.format(np.mean(scores), np.std(scores)))\n",
    "\n",
    "# 0.8216 ± 0.0370 (estimator)\n",
    "# 0.8249 ± 0.0320 (encoder + estimator)\n",
    "# 0.8261 ± 0.0336 (encoder + estimator)"
   ]
  },
  {
   "cell_type": "code",
   "execution_count": 426,
   "metadata": {},
   "outputs": [],
   "source": [
    "estimator = make_pipeline(encoder, model)"
   ]
  },
  {
   "cell_type": "markdown",
   "metadata": {},
   "source": [
    "## Submit (Out-of-Fold & Test Predictions)"
   ]
  },
  {
   "cell_type": "code",
   "execution_count": 427,
   "metadata": {},
   "outputs": [
    {
     "name": "stdout",
     "output_type": "stream",
     "text": [
      "PassengerId\n",
      "1    0\n",
      "2    1\n",
      "3    0\n",
      "4    1\n",
      "5    0\n",
      "Name: Survived, dtype: int64\n",
      "CPU times: user 13.9 s, sys: 2.45 s, total: 16.4 s\n",
      "Wall time: 4.6 s\n"
     ]
    }
   ],
   "source": [
    "%%time\n",
    "from sklearn.model_selection import cross_val_predict\n",
    "\n",
    "y_oof = cross_val_predict(estimator, X_train, y_train, cv=cv)\n",
    "\n",
    "y_oof = pd.Series(y_oof, index=X_train.index, name=target)\n",
    "print(y_oof.head())"
   ]
  },
  {
   "cell_type": "code",
   "execution_count": 428,
   "metadata": {},
   "outputs": [
    {
     "name": "stdout",
     "output_type": "stream",
     "text": [
      "PassengerId\n",
      "892    0\n",
      "893    0\n",
      "894    0\n",
      "895    0\n",
      "896    0\n",
      "Name: Survived, dtype: int64\n",
      "CPU times: user 27.2 s, sys: 4.76 s, total: 31.9 s\n",
      "Wall time: 7.79 s\n"
     ]
    }
   ],
   "source": [
    "%%time\n",
    "from sklearn.model_selection import cross_validate\n",
    "\n",
    "scores = cross_validate(estimator, X_train, y_train, cv=cv, return_estimator=True)\n",
    "y_subs = [estimator.predict_proba(X_test)[:,1] for estimator in scores['estimator']]\n",
    "y_sub = np.rint(np.mean(y_subs, axis=0)).astype(int)\n",
    "\n",
    "y_sub = pd.Series(y_sub, index=X_test.index, name=target)\n",
    "print(y_sub.head())"
   ]
  },
  {
   "cell_type": "code",
   "execution_count": 429,
   "metadata": {},
   "outputs": [],
   "source": [
    "import os\n",
    "\n",
    "path = os.path.join(os.getcwd(), 'pred')\n",
    "if not os.path.exists(path):\n",
    "    os.mkdir(path)\n",
    "\n",
    "sub_path = os.path.join(path, '0 sub baseline.csv')\n",
    "oof_path = os.path.join(path, '0 oof baseline.csv')\n",
    "\n",
    "y_sub.to_csv(sub_path, header=True)\n",
    "y_oof.to_csv(oof_path, header=True)"
   ]
  },
  {
   "cell_type": "markdown",
   "metadata": {},
   "source": [
    "### Score:\n",
    "### `[CV] 0.8249 ± 0.0314`\n",
    "### `[LB] 0.7656`"
   ]
  }
 ],
 "metadata": {
  "kernelspec": {
   "display_name": "Python 3",
   "language": "python",
   "name": "python3"
  },
  "language_info": {
   "codemirror_mode": {
    "name": "ipython",
    "version": 3
   },
   "file_extension": ".py",
   "mimetype": "text/x-python",
   "name": "python",
   "nbconvert_exporter": "python",
   "pygments_lexer": "ipython3",
   "version": "3.6.8"
  },
  "toc": {
   "colors": {
    "hover_highlight": "#DAA520",
    "navigate_num": "#000000",
    "navigate_text": "#333333",
    "running_highlight": "#FF0000",
    "selected_highlight": "#FFD700",
    "sidebar_border": "#EEEEEE",
    "wrapper_background": "#FFFFFF"
   },
   "moveMenuLeft": false,
   "nav_menu": {
    "height": "32px",
    "width": "250px"
   },
   "navigate_menu": true,
   "number_sections": true,
   "sideBar": true,
   "threshold": 4,
   "toc_cell": true,
   "toc_section_display": "block",
   "toc_window_display": true,
   "widenNotebook": false
  }
 },
 "nbformat": 4,
 "nbformat_minor": 2
}
